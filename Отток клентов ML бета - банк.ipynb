{
 "cells": [
  {
   "cell_type": "markdown",
   "metadata": {},
   "source": [
    "# Отток клиентов.\n"
   ]
  },
  {
   "cell_type": "markdown",
   "metadata": {},
   "source": [
    "Из «Бета-Банка» стали уходить клиенты. Каждый месяц. Банковские маркетологи посчитали: сохранять текущих клиентов дешевле, чем привлекать новых.\n",
    "\n",
    "Необходимо предугадать, покинет ли клиент банк в ближайшее время или нет. Нам были предоставлены исторические данные о поведении клиентов и расторжении договоров с банком\n",
    "\n",
    "Источник данных: [https://www.kaggle.com/barelydedicated/bank-customer-churn-modeling](https://www.kaggle.com/barelydedicated/bank-customer-churn-modeling)"
   ]
  },
  {
   "cell_type": "markdown",
   "metadata": {},
   "source": [
    "## Загрузка необходимых библиотек"
   ]
  },
  {
   "cell_type": "code",
   "execution_count": 58,
   "metadata": {
    "ExecuteTime": {
     "end_time": "2024-03-17T12:41:49.694909Z",
     "start_time": "2024-03-17T12:41:49.687620Z"
    }
   },
   "outputs": [],
   "source": [
    "#Импортируем необходимые библиотеки\n",
    "import pandas as pd\n",
    "import warnings\n",
    "warnings.filterwarnings('ignore')\n",
    "import numpy as np\n",
    "import seaborn as sns\n",
    "import matplotlib.pyplot as plt\n",
    "from sklearn.model_selection import train_test_split\n",
    "from sklearn.model_selection import GridSearchCV\n",
    "from sklearn.tree import DecisionTreeClassifier\n",
    "from sklearn.ensemble import RandomForestClassifier\n",
    "from sklearn.model_selection import RandomizedSearchCV\n",
    "from sklearn.linear_model import LogisticRegression\n",
    "from sklearn.model_selection import cross_val_score\n",
    "from sklearn.metrics import f1_score\n",
    "from sklearn.utils import resample\n",
    "from sklearn.metrics import roc_auc_score"
   ]
  },
  {
   "cell_type": "markdown",
   "metadata": {},
   "source": [
    "# Первичный обзор данных."
   ]
  },
  {
   "cell_type": "code",
   "execution_count": 4,
   "metadata": {
    "ExecuteTime": {
     "end_time": "2024-03-17T11:51:45.194489Z",
     "start_time": "2024-03-17T11:51:45.146321Z"
    }
   },
   "outputs": [
    {
     "data": {
      "text/plain": "   RowNumber  CustomerId   Surname  CreditScore Geography  Gender  Age  \\\n0          1    15634602  Hargrave          619    France  Female   42   \n1          2    15647311      Hill          608     Spain  Female   41   \n2          3    15619304      Onio          502    France  Female   42   \n3          4    15701354      Boni          699    France  Female   39   \n4          5    15737888  Mitchell          850     Spain  Female   43   \n\n   Tenure    Balance  NumOfProducts  HasCrCard  IsActiveMember  \\\n0     2.0       0.00              1          1               1   \n1     1.0   83807.86              1          0               1   \n2     8.0  159660.80              3          1               0   \n3     1.0       0.00              2          0               0   \n4     2.0  125510.82              1          1               1   \n\n   EstimatedSalary  Exited  \n0        101348.88       1  \n1        112542.58       0  \n2        113931.57       1  \n3         93826.63       0  \n4         79084.10       0  ",
      "text/html": "<div>\n<style scoped>\n    .dataframe tbody tr th:only-of-type {\n        vertical-align: middle;\n    }\n\n    .dataframe tbody tr th {\n        vertical-align: top;\n    }\n\n    .dataframe thead th {\n        text-align: right;\n    }\n</style>\n<table border=\"1\" class=\"dataframe\">\n  <thead>\n    <tr style=\"text-align: right;\">\n      <th></th>\n      <th>RowNumber</th>\n      <th>CustomerId</th>\n      <th>Surname</th>\n      <th>CreditScore</th>\n      <th>Geography</th>\n      <th>Gender</th>\n      <th>Age</th>\n      <th>Tenure</th>\n      <th>Balance</th>\n      <th>NumOfProducts</th>\n      <th>HasCrCard</th>\n      <th>IsActiveMember</th>\n      <th>EstimatedSalary</th>\n      <th>Exited</th>\n    </tr>\n  </thead>\n  <tbody>\n    <tr>\n      <th>0</th>\n      <td>1</td>\n      <td>15634602</td>\n      <td>Hargrave</td>\n      <td>619</td>\n      <td>France</td>\n      <td>Female</td>\n      <td>42</td>\n      <td>2.0</td>\n      <td>0.00</td>\n      <td>1</td>\n      <td>1</td>\n      <td>1</td>\n      <td>101348.88</td>\n      <td>1</td>\n    </tr>\n    <tr>\n      <th>1</th>\n      <td>2</td>\n      <td>15647311</td>\n      <td>Hill</td>\n      <td>608</td>\n      <td>Spain</td>\n      <td>Female</td>\n      <td>41</td>\n      <td>1.0</td>\n      <td>83807.86</td>\n      <td>1</td>\n      <td>0</td>\n      <td>1</td>\n      <td>112542.58</td>\n      <td>0</td>\n    </tr>\n    <tr>\n      <th>2</th>\n      <td>3</td>\n      <td>15619304</td>\n      <td>Onio</td>\n      <td>502</td>\n      <td>France</td>\n      <td>Female</td>\n      <td>42</td>\n      <td>8.0</td>\n      <td>159660.80</td>\n      <td>3</td>\n      <td>1</td>\n      <td>0</td>\n      <td>113931.57</td>\n      <td>1</td>\n    </tr>\n    <tr>\n      <th>3</th>\n      <td>4</td>\n      <td>15701354</td>\n      <td>Boni</td>\n      <td>699</td>\n      <td>France</td>\n      <td>Female</td>\n      <td>39</td>\n      <td>1.0</td>\n      <td>0.00</td>\n      <td>2</td>\n      <td>0</td>\n      <td>0</td>\n      <td>93826.63</td>\n      <td>0</td>\n    </tr>\n    <tr>\n      <th>4</th>\n      <td>5</td>\n      <td>15737888</td>\n      <td>Mitchell</td>\n      <td>850</td>\n      <td>Spain</td>\n      <td>Female</td>\n      <td>43</td>\n      <td>2.0</td>\n      <td>125510.82</td>\n      <td>1</td>\n      <td>1</td>\n      <td>1</td>\n      <td>79084.10</td>\n      <td>0</td>\n    </tr>\n  </tbody>\n</table>\n</div>"
     },
     "execution_count": 4,
     "metadata": {},
     "output_type": "execute_result"
    }
   ],
   "source": [
    "#Сохраним файл в переменную\n",
    "df = pd.read_csv(r\"//Users/a1/Desktop/Мои проекты/Отток клентов ML бета - банк/Churn.csv\")\n",
    "df.head()"
   ]
  },
  {
   "cell_type": "code",
   "execution_count": 5,
   "metadata": {
    "ExecuteTime": {
     "end_time": "2024-03-17T11:51:46.395445Z",
     "start_time": "2024-03-17T11:51:46.373648Z"
    }
   },
   "outputs": [
    {
     "data": {
      "text/plain": "         RowNumber    CustomerId   CreditScore           Age       Tenure  \\\ncount  10000.00000  1.000000e+04  10000.000000  10000.000000  9091.000000   \nmean    5000.50000  1.569094e+07    650.528800     38.921800     4.997690   \nstd     2886.89568  7.193619e+04     96.653299     10.487806     2.894723   \nmin        1.00000  1.556570e+07    350.000000     18.000000     0.000000   \n25%     2500.75000  1.562853e+07    584.000000     32.000000     2.000000   \n50%     5000.50000  1.569074e+07    652.000000     37.000000     5.000000   \n75%     7500.25000  1.575323e+07    718.000000     44.000000     7.000000   \nmax    10000.00000  1.581569e+07    850.000000     92.000000    10.000000   \n\n             Balance  NumOfProducts    HasCrCard  IsActiveMember  \\\ncount   10000.000000   10000.000000  10000.00000    10000.000000   \nmean    76485.889288       1.530200      0.70550        0.515100   \nstd     62397.405202       0.581654      0.45584        0.499797   \nmin         0.000000       1.000000      0.00000        0.000000   \n25%         0.000000       1.000000      0.00000        0.000000   \n50%     97198.540000       1.000000      1.00000        1.000000   \n75%    127644.240000       2.000000      1.00000        1.000000   \nmax    250898.090000       4.000000      1.00000        1.000000   \n\n       EstimatedSalary        Exited  \ncount     10000.000000  10000.000000  \nmean     100090.239881      0.203700  \nstd       57510.492818      0.402769  \nmin          11.580000      0.000000  \n25%       51002.110000      0.000000  \n50%      100193.915000      0.000000  \n75%      149388.247500      0.000000  \nmax      199992.480000      1.000000  ",
      "text/html": "<div>\n<style scoped>\n    .dataframe tbody tr th:only-of-type {\n        vertical-align: middle;\n    }\n\n    .dataframe tbody tr th {\n        vertical-align: top;\n    }\n\n    .dataframe thead th {\n        text-align: right;\n    }\n</style>\n<table border=\"1\" class=\"dataframe\">\n  <thead>\n    <tr style=\"text-align: right;\">\n      <th></th>\n      <th>RowNumber</th>\n      <th>CustomerId</th>\n      <th>CreditScore</th>\n      <th>Age</th>\n      <th>Tenure</th>\n      <th>Balance</th>\n      <th>NumOfProducts</th>\n      <th>HasCrCard</th>\n      <th>IsActiveMember</th>\n      <th>EstimatedSalary</th>\n      <th>Exited</th>\n    </tr>\n  </thead>\n  <tbody>\n    <tr>\n      <th>count</th>\n      <td>10000.00000</td>\n      <td>1.000000e+04</td>\n      <td>10000.000000</td>\n      <td>10000.000000</td>\n      <td>9091.000000</td>\n      <td>10000.000000</td>\n      <td>10000.000000</td>\n      <td>10000.00000</td>\n      <td>10000.000000</td>\n      <td>10000.000000</td>\n      <td>10000.000000</td>\n    </tr>\n    <tr>\n      <th>mean</th>\n      <td>5000.50000</td>\n      <td>1.569094e+07</td>\n      <td>650.528800</td>\n      <td>38.921800</td>\n      <td>4.997690</td>\n      <td>76485.889288</td>\n      <td>1.530200</td>\n      <td>0.70550</td>\n      <td>0.515100</td>\n      <td>100090.239881</td>\n      <td>0.203700</td>\n    </tr>\n    <tr>\n      <th>std</th>\n      <td>2886.89568</td>\n      <td>7.193619e+04</td>\n      <td>96.653299</td>\n      <td>10.487806</td>\n      <td>2.894723</td>\n      <td>62397.405202</td>\n      <td>0.581654</td>\n      <td>0.45584</td>\n      <td>0.499797</td>\n      <td>57510.492818</td>\n      <td>0.402769</td>\n    </tr>\n    <tr>\n      <th>min</th>\n      <td>1.00000</td>\n      <td>1.556570e+07</td>\n      <td>350.000000</td>\n      <td>18.000000</td>\n      <td>0.000000</td>\n      <td>0.000000</td>\n      <td>1.000000</td>\n      <td>0.00000</td>\n      <td>0.000000</td>\n      <td>11.580000</td>\n      <td>0.000000</td>\n    </tr>\n    <tr>\n      <th>25%</th>\n      <td>2500.75000</td>\n      <td>1.562853e+07</td>\n      <td>584.000000</td>\n      <td>32.000000</td>\n      <td>2.000000</td>\n      <td>0.000000</td>\n      <td>1.000000</td>\n      <td>0.00000</td>\n      <td>0.000000</td>\n      <td>51002.110000</td>\n      <td>0.000000</td>\n    </tr>\n    <tr>\n      <th>50%</th>\n      <td>5000.50000</td>\n      <td>1.569074e+07</td>\n      <td>652.000000</td>\n      <td>37.000000</td>\n      <td>5.000000</td>\n      <td>97198.540000</td>\n      <td>1.000000</td>\n      <td>1.00000</td>\n      <td>1.000000</td>\n      <td>100193.915000</td>\n      <td>0.000000</td>\n    </tr>\n    <tr>\n      <th>75%</th>\n      <td>7500.25000</td>\n      <td>1.575323e+07</td>\n      <td>718.000000</td>\n      <td>44.000000</td>\n      <td>7.000000</td>\n      <td>127644.240000</td>\n      <td>2.000000</td>\n      <td>1.00000</td>\n      <td>1.000000</td>\n      <td>149388.247500</td>\n      <td>0.000000</td>\n    </tr>\n    <tr>\n      <th>max</th>\n      <td>10000.00000</td>\n      <td>1.581569e+07</td>\n      <td>850.000000</td>\n      <td>92.000000</td>\n      <td>10.000000</td>\n      <td>250898.090000</td>\n      <td>4.000000</td>\n      <td>1.00000</td>\n      <td>1.000000</td>\n      <td>199992.480000</td>\n      <td>1.000000</td>\n    </tr>\n  </tbody>\n</table>\n</div>"
     },
     "execution_count": 5,
     "metadata": {},
     "output_type": "execute_result"
    }
   ],
   "source": [
    "#Применим метод для краткого описания характеристик столбцов датасета \n",
    "df.describe()"
   ]
  },
  {
   "cell_type": "markdown",
   "metadata": {},
   "source": [
    "В целом по характеристикам всё выглядит соответствующим образом, возраст от 18 до 92 лет, у самого молодого пользователя сооответствующий кредитный рейтинг и баланс, очень маленькая ожидаемая зарплата в связи с тем, что скорее всего пользователь еще не устроился на работу. Около 50% пользователей имеют на счте более 97,000. Средняя ожидаемая зарплата около 100,000. По столбцу с балансом можно отметить, что имеется скошенность распределения влево, по скольку среднее значение баланса меньше медианы. Касательно возраста можно заметить что среднее = 38 лет, а стандартное отклонение 10 лет, максимальное значение 92 года, данный возраст находится за пределами 3х стандартных отклонений, можно было бы сказать, что это статистический выброс, но в мире люди в таком возрасте вполне могут пользоваться банковскими услугами, поэтому такое значение оставим"
   ]
  },
  {
   "cell_type": "code",
   "execution_count": 6,
   "metadata": {
    "ExecuteTime": {
     "end_time": "2024-03-17T11:53:16.354199Z",
     "start_time": "2024-03-17T11:53:16.318145Z"
    }
   },
   "outputs": [
    {
     "name": "stdout",
     "output_type": "stream",
     "text": [
      "<class 'pandas.core.frame.DataFrame'>\n",
      "RangeIndex: 10000 entries, 0 to 9999\n",
      "Data columns (total 14 columns):\n",
      " #   Column           Non-Null Count  Dtype  \n",
      "---  ------           --------------  -----  \n",
      " 0   RowNumber        10000 non-null  int64  \n",
      " 1   CustomerId       10000 non-null  int64  \n",
      " 2   Surname          10000 non-null  object \n",
      " 3   CreditScore      10000 non-null  int64  \n",
      " 4   Geography        10000 non-null  object \n",
      " 5   Gender           10000 non-null  object \n",
      " 6   Age              10000 non-null  int64  \n",
      " 7   Tenure           9091 non-null   float64\n",
      " 8   Balance          10000 non-null  float64\n",
      " 9   NumOfProducts    10000 non-null  int64  \n",
      " 10  HasCrCard        10000 non-null  int64  \n",
      " 11  IsActiveMember   10000 non-null  int64  \n",
      " 12  EstimatedSalary  10000 non-null  float64\n",
      " 13  Exited           10000 non-null  int64  \n",
      "dtypes: float64(3), int64(8), object(3)\n",
      "memory usage: 1.1+ MB\n"
     ]
    }
   ],
   "source": [
    "#Выведем общую информацию о датасете\n",
    "df.info()"
   ]
  },
  {
   "cell_type": "markdown",
   "metadata": {},
   "source": [
    "Набор данных содержит следующие столбцы с информацией: \n",
    "\n",
    "`RowNumber` - Индекс строки в данных\n",
    "\n",
    "`CustomerId` - Уникальный идентификатор клиента\n",
    "\n",
    "`Surname` - Фамилия\n",
    "\n",
    "`CreditScore` - Кредитный рейтинг\n",
    "\n",
    "`Geography` - Страна проживания\n",
    "\n",
    "`Gender` - Пол\n",
    "\n",
    "`Age` - Возраст\n",
    "\n",
    "`Tenure` - Сколько лет человек является клиентом банка\n",
    "\n",
    "`Balance` - Баланс на счёте\n",
    "\n",
    "`NumOfProducts` - Количество продуктов банка, используемых клиентом\n",
    "\n",
    "`HasCrCard` - Наличие кредитной карты\n",
    "\n",
    "`IsActiveMember` - Активность клиента\n",
    "\n",
    "`EstimatedSalary` - Предполагаемая зарплата\n",
    "\n",
    "`Exited` - Факт ухода клиента (Наш целевой признак)"
   ]
  },
  {
   "cell_type": "markdown",
   "metadata": {},
   "source": [
    "Можем заметить, что в нашем датасете 10000 строк и 14 колонок, в колонке Tenure есть пропуски, которые составляют чуть меньше 10% от объема строк, от данных значений можно избавиться, либо заполнить медианой. По типам данных всё соответствует действительности."
   ]
  },
  {
   "cell_type": "markdown",
   "metadata": {},
   "source": [
    "# Предобработка данных."
   ]
  },
  {
   "cell_type": "code",
   "execution_count": 7,
   "metadata": {
    "ExecuteTime": {
     "end_time": "2024-03-17T11:56:56.104859Z",
     "start_time": "2024-03-17T11:56:56.086630Z"
    }
   },
   "outputs": [
    {
     "data": {
      "text/plain": "0"
     },
     "execution_count": 7,
     "metadata": {},
     "output_type": "execute_result"
    }
   ],
   "source": [
    "#Проверим данные на дубликаты\n",
    "df.duplicated().sum()"
   ]
  },
  {
   "cell_type": "code",
   "execution_count": 8,
   "metadata": {
    "ExecuteTime": {
     "end_time": "2024-03-17T11:56:56.590754Z",
     "start_time": "2024-03-17T11:56:56.586507Z"
    }
   },
   "outputs": [
    {
     "data": {
      "text/plain": "5.0"
     },
     "execution_count": 8,
     "metadata": {},
     "output_type": "execute_result"
    }
   ],
   "source": [
    "#Посчитатем медиану для столбца 'Tenure'\n",
    "df['Tenure'].median()"
   ]
  },
  {
   "cell_type": "markdown",
   "metadata": {},
   "source": [
    "По медиане клиенты пользуются банком 5 лет, в целом можем заполнить данным значением пропущенные значения в нашем датасете"
   ]
  },
  {
   "cell_type": "code",
   "execution_count": 9,
   "metadata": {
    "ExecuteTime": {
     "end_time": "2024-03-17T11:57:00.259750Z",
     "start_time": "2024-03-17T11:57:00.251688Z"
    }
   },
   "outputs": [],
   "source": [
    "#Заменим значения количества недвижимости равные NaN на 0\n",
    "df = df.fillna(df['Tenure'].median())"
   ]
  },
  {
   "cell_type": "code",
   "execution_count": 10,
   "metadata": {
    "ExecuteTime": {
     "end_time": "2024-03-17T11:57:00.864169Z",
     "start_time": "2024-03-17T11:57:00.858400Z"
    }
   },
   "outputs": [],
   "source": [
    "# <поменяем тип на целочисленный>\n",
    "df['Tenure'] = df['Tenure'].astype('int64')"
   ]
  },
  {
   "cell_type": "markdown",
   "metadata": {},
   "source": [
    "В целом здесь же мы можем посмотреть на распределние столбца 'EstimatedSalary', чтобы посмотреть на выбросы"
   ]
  },
  {
   "cell_type": "code",
   "execution_count": 13,
   "metadata": {
    "ExecuteTime": {
     "end_time": "2024-03-17T11:58:06.968362Z",
     "start_time": "2024-03-17T11:58:06.844804Z"
    }
   },
   "outputs": [
    {
     "data": {
      "text/plain": "<Figure size 1000x500 with 1 Axes>",
      "image/png": "[encoded data removed]"
     },
     "metadata": {},
     "output_type": "display_data"
    }
   ],
   "source": [
    "df.boxplot(['EstimatedSalary'], figsize=(10,5))\n",
    "plt.ylabel('Ожидаемая зарплата', fontsize=14)\n",
    "plt.show()"
   ]
  },
  {
   "cell_type": "markdown",
   "metadata": {},
   "source": [
    "\"Ящик с усами\" отбразил, что все значения находятся в межквартильном размахе, выбросов не наблюдается, медиана на уровне 100000"
   ]
  },
  {
   "cell_type": "markdown",
   "metadata": {},
   "source": [
    "# Исследовательский анализ данных."
   ]
  },
  {
   "cell_type": "markdown",
   "metadata": {},
   "source": [
    "Основная цель данного проекта состоит в построении прогноза, уйдёт клиент из банка в ближайшее время или нет, и в целом в данных нет ничего необычного, можно было и перейти сразу к построению модели и проверке метрик, но было бы неплохо рассмотреть информацию более детально, чтобы отправить итог по исследовательскому анализу в соответствующие департаменты."
   ]
  },
  {
   "cell_type": "code",
   "execution_count": 14,
   "metadata": {
    "ExecuteTime": {
     "end_time": "2024-03-17T12:01:13.628257Z",
     "start_time": "2024-03-17T12:01:13.424067Z"
    }
   },
   "outputs": [
    {
     "data": {
      "text/plain": "<Figure size 596.25x500 with 1 Axes>",
      "image/png": "[encoded data removed]"
     },
     "metadata": {},
     "output_type": "display_data"
    }
   ],
   "source": [
    "#Посчитаем общий баланc пользователй банка по странам и построим график\n",
    "df_sum_balance = df.groupby(['Geography','Gender'],as_index=False).agg({'Balance':'sum'})\n",
    "\n",
    "sns.catplot(data=df_sum_balance,kind=\"bar\", x=\"Geography\", y=\"Balance\",hue='Gender', color='red')\n",
    "plt.gcf().axes[0].yaxis.get_major_formatter().set_scientific(False)\n",
    "plt.title('Общий баланс всех пользователей банка по странам')\n",
    "plt.xlabel('Страна')\n",
    "plt.ylabel('Сумма баланса')\n",
    "plt.show()"
   ]
  },
  {
   "cell_type": "markdown",
   "source": [
    "Можно сделать вывод, что основными вкладчиками банка являются пользователи из Франции и Германии, интересно, что пользователи женского пола хранят больше денег, чем мужчины"
   ],
   "metadata": {
    "collapsed": false
   }
  },
  {
   "cell_type": "code",
   "outputs": [
    {
     "data": {
      "text/plain": "   RowNumber  CustomerId   Surname  CreditScore Geography  Gender  Age  \\\n0          1    15634602  Hargrave          619    France  Female   42   \n1          2    15647311      Hill          608     Spain  Female   41   \n2          3    15619304      Onio          502    France  Female   42   \n3          4    15701354      Boni          699    France  Female   39   \n4          5    15737888  Mitchell          850     Spain  Female   43   \n\n   Tenure    Balance  NumOfProducts  HasCrCard  IsActiveMember  \\\n0       2       0.00              1          1               1   \n1       1   83807.86              1          0               1   \n2       8  159660.80              3          1               0   \n3       1       0.00              2          0               0   \n4       2  125510.82              1          1               1   \n\n   EstimatedSalary  Exited  \n0        101348.88       1  \n1        112542.58       0  \n2        113931.57       1  \n3         93826.63       0  \n4         79084.10       0  ",
      "text/html": "<div>\n<style scoped>\n    .dataframe tbody tr th:only-of-type {\n        vertical-align: middle;\n    }\n\n    .dataframe tbody tr th {\n        vertical-align: top;\n    }\n\n    .dataframe thead th {\n        text-align: right;\n    }\n</style>\n<table border=\"1\" class=\"dataframe\">\n  <thead>\n    <tr style=\"text-align: right;\">\n      <th></th>\n      <th>RowNumber</th>\n      <th>CustomerId</th>\n      <th>Surname</th>\n      <th>CreditScore</th>\n      <th>Geography</th>\n      <th>Gender</th>\n      <th>Age</th>\n      <th>Tenure</th>\n      <th>Balance</th>\n      <th>NumOfProducts</th>\n      <th>HasCrCard</th>\n      <th>IsActiveMember</th>\n      <th>EstimatedSalary</th>\n      <th>Exited</th>\n    </tr>\n  </thead>\n  <tbody>\n    <tr>\n      <th>0</th>\n      <td>1</td>\n      <td>15634602</td>\n      <td>Hargrave</td>\n      <td>619</td>\n      <td>France</td>\n      <td>Female</td>\n      <td>42</td>\n      <td>2</td>\n      <td>0.00</td>\n      <td>1</td>\n      <td>1</td>\n      <td>1</td>\n      <td>101348.88</td>\n      <td>1</td>\n    </tr>\n    <tr>\n      <th>1</th>\n      <td>2</td>\n      <td>15647311</td>\n      <td>Hill</td>\n      <td>608</td>\n      <td>Spain</td>\n      <td>Female</td>\n      <td>41</td>\n      <td>1</td>\n      <td>83807.86</td>\n      <td>1</td>\n      <td>0</td>\n      <td>1</td>\n      <td>112542.58</td>\n      <td>0</td>\n    </tr>\n    <tr>\n      <th>2</th>\n      <td>3</td>\n      <td>15619304</td>\n      <td>Onio</td>\n      <td>502</td>\n      <td>France</td>\n      <td>Female</td>\n      <td>42</td>\n      <td>8</td>\n      <td>159660.80</td>\n      <td>3</td>\n      <td>1</td>\n      <td>0</td>\n      <td>113931.57</td>\n      <td>1</td>\n    </tr>\n    <tr>\n      <th>3</th>\n      <td>4</td>\n      <td>15701354</td>\n      <td>Boni</td>\n      <td>699</td>\n      <td>France</td>\n      <td>Female</td>\n      <td>39</td>\n      <td>1</td>\n      <td>0.00</td>\n      <td>2</td>\n      <td>0</td>\n      <td>0</td>\n      <td>93826.63</td>\n      <td>0</td>\n    </tr>\n    <tr>\n      <th>4</th>\n      <td>5</td>\n      <td>15737888</td>\n      <td>Mitchell</td>\n      <td>850</td>\n      <td>Spain</td>\n      <td>Female</td>\n      <td>43</td>\n      <td>2</td>\n      <td>125510.82</td>\n      <td>1</td>\n      <td>1</td>\n      <td>1</td>\n      <td>79084.10</td>\n      <td>0</td>\n    </tr>\n  </tbody>\n</table>\n</div>"
     },
     "execution_count": 15,
     "metadata": {},
     "output_type": "execute_result"
    }
   ],
   "source": [
    "df.head()"
   ],
   "metadata": {
    "ExecuteTime": {
     "end_time": "2024-03-17T12:01:15.090624Z",
     "start_time": "2024-03-17T12:01:15.080115Z"
    }
   },
   "execution_count": 15
  },
  {
   "cell_type": "code",
   "outputs": [
    {
     "data": {
      "text/plain": "<Figure size 640x480 with 1 Axes>",
      "image/png": "[encoded data removed]"
     },
     "metadata": {},
     "output_type": "display_data"
    }
   ],
   "source": [
    "#Посчитаем общее количество пользователей банка по странам и построим график\n",
    "df_country_users = df.groupby('Geography',as_index=False).agg({'CustomerId':'count'})\n",
    "\n",
    "sns.barplot(data=df_country_users, x=\"Geography\", y=\"CustomerId\", palette='hls')\n",
    "plt.title('Количество пользователей банка по странам')\n",
    "plt.xlabel('Страна')\n",
    "plt.ylabel('Количество пользователей')\n",
    "plt.show()"
   ],
   "metadata": {
    "ExecuteTime": {
     "end_time": "2024-03-17T12:01:16.111939Z",
     "start_time": "2024-03-17T12:01:16.023352Z"
    }
   },
   "execution_count": 16
  },
  {
   "cell_type": "markdown",
   "source": [
    "Около 5000 пользователей из Франции, 2500 пользователей из Германии и примерно столько же из Испании"
   ],
   "metadata": {
    "collapsed": false
   }
  },
  {
   "cell_type": "code",
   "outputs": [
    {
     "data": {
      "text/plain": "<Figure size 696.25x600 with 1 Axes>",
      "image/png": "[encoded data removed]"
     },
     "metadata": {},
     "output_type": "display_data"
    }
   ],
   "source": [
    "#Также посчитаем количество пользователей по странам, но с разбивкой по полу.\n",
    "df_gender_countries = df.groupby(['Geography','Gender'],as_index=False).agg({'CustomerId':'count'}).sort_values(by='Gender',ascending=False)\n",
    "\n",
    "sns.catplot(data=df_gender_countries, kind=\"bar\",x=\"Geography\", y=\"CustomerId\", hue=\"Gender\",errorbar=\"sd\", palette=\"dark\", alpha=.8, height=6)\n",
    "plt.show()"
   ],
   "metadata": {
    "ExecuteTime": {
     "end_time": "2024-03-17T12:01:43.543937Z",
     "start_time": "2024-03-17T12:01:43.377235Z"
    }
   },
   "execution_count": 17
  },
  {
   "cell_type": "markdown",
   "source": [
    "Отсюда следует, что и пользователей женского пола по всем странам немного больше, отсюда и выходит такая сумма вкладов"
   ],
   "metadata": {
    "collapsed": false
   }
  },
  {
   "cell_type": "code",
   "execution_count": 18,
   "metadata": {
    "ExecuteTime": {
     "end_time": "2024-03-17T12:05:41.494755Z",
     "start_time": "2024-03-17T12:05:41.345467Z"
    }
   },
   "outputs": [
    {
     "data": {
      "text/plain": "<Figure size 640x480 with 1 Axes>",
      "image/png": "[encoded data removed]"
     },
     "metadata": {},
     "output_type": "display_data"
    }
   ],
   "source": [
    "#Количество пользователей, которые ушли в отток.\n",
    "df_exited_sum = df.query('Exited == 1').groupby(['Geography'], as_index=False).agg({'Exited':'count'}).sort_values(by='Exited',ascending=False)\n",
    "\n",
    "sns.barplot(data=df_exited_sum, x=\"Geography\", y=\"Exited\", color='green')\n",
    "plt.gcf().axes[0].yaxis.get_major_formatter().set_scientific(False)\n",
    "plt.title('Количество пользователей ушедших в отток')\n",
    "plt.xlabel('Страна')\n",
    "plt.ylabel('Количество пользователей в оттоке')\n",
    "plt.show()"
   ]
  },
  {
   "cell_type": "markdown",
   "source": [],
   "metadata": {
    "collapsed": false
   }
  },
  {
   "cell_type": "code",
   "execution_count": 20,
   "metadata": {
    "ExecuteTime": {
     "end_time": "2024-03-17T12:07:50.036660Z",
     "start_time": "2024-03-17T12:07:49.841838Z"
    }
   },
   "outputs": [
    {
     "data": {
      "text/plain": "<Figure size 696.25x600 with 1 Axes>",
      "image/png": "[encoded data removed]"
     },
     "metadata": {},
     "output_type": "display_data"
    }
   ],
   "source": [
    "# Определим количество пользователей, ушедших в отток по полу и по странам\n",
    "df_gender_exited = df.query('Exited == 1').groupby(['Geography','Gender'],as_index=False).agg({'Exited':'count'}).sort_values(by='Exited',ascending=False)\n",
    "\n",
    "sns.catplot(data=df_gender_exited, kind=\"bar\",x=\"Geography\", y=\"Exited\", hue=\"Gender\",errorbar=\"sd\", palette=\"dark\", alpha=.8, height=6)\n",
    "plt.show()"
   ]
  },
  {
   "cell_type": "markdown",
   "source": [
    "Большинство пользователей, ушедших в отток, являются пользователи мужского пола, примерно по 450 человек из стран Франции и Германии, а также примерно 250 пользователей из Испании"
   ],
   "metadata": {
    "collapsed": false
   }
  },
  {
   "cell_type": "code",
   "execution_count": 21,
   "metadata": {
    "scrolled": false,
    "ExecuteTime": {
     "end_time": "2024-03-17T12:09:49.492926Z",
     "start_time": "2024-03-17T12:09:49.373411Z"
    }
   },
   "outputs": [
    {
     "data": {
      "text/plain": "<Figure size 640x480 with 1 Axes>",
      "image/png": "[encoded data removed]"
     },
     "metadata": {},
     "output_type": "display_data"
    }
   ],
   "source": [
    "df_mean_tenure_users = df.groupby('Geography',as_index=False).agg({'Tenure':'mean'})\n",
    "\n",
    "sns.barplot(data=df_mean_tenure_users, x=\"Geography\", y=\"Tenure\", color='orange')\n",
    "plt.title('Средняя продолжительность обслуживания пользователей в банке')\n",
    "plt.xlabel('Страна')\n",
    "plt.ylabel('Количество лет')\n",
    "plt.show()"
   ]
  },
  {
   "cell_type": "code",
   "execution_count": 22,
   "metadata": {
    "ExecuteTime": {
     "end_time": "2024-03-17T12:09:50.390876Z",
     "start_time": "2024-03-17T12:09:50.243075Z"
    }
   },
   "outputs": [
    {
     "data": {
      "text/plain": "<Figure size 640x480 with 1 Axes>",
      "image/png": "[encoded data removed]"
     },
     "metadata": {},
     "output_type": "display_data"
    }
   ],
   "source": [
    "df_age = df.groupby('Age', as_index=False)['Surname'].count().sort_values(by='Surname', ascending=False).head(15)\n",
    "sns.barplot(data=df_age, x=\"Age\", y=\"Surname\", color='orange')\n",
    "plt.title('ТОП-10 возрастов')\n",
    "plt.xlabel('Возраст')\n",
    "plt.ylabel('Количество пользователей')\n",
    "plt.show()"
   ]
  },
  {
   "cell_type": "markdown",
   "source": [
    "# Построение модели"
   ],
   "metadata": {
    "collapsed": false
   }
  },
  {
   "cell_type": "markdown",
   "metadata": {},
   "source": [
    "Создадим новый датафрейм, удалим из него столбцы Surname, RowNumber и СustomerID, которые не влияют на столбец Exited.\n"
   ]
  },
  {
   "cell_type": "code",
   "execution_count": 24,
   "metadata": {
    "ExecuteTime": {
     "end_time": "2024-03-17T12:11:00.265441Z",
     "start_time": "2024-03-17T12:11:00.254054Z"
    }
   },
   "outputs": [
    {
     "data": {
      "text/plain": "      CreditScore Geography  Gender  Age  Tenure    Balance  NumOfProducts  \\\n0             619    France  Female   42       2       0.00              1   \n1             608     Spain  Female   41       1   83807.86              1   \n2             502    France  Female   42       8  159660.80              3   \n3             699    France  Female   39       1       0.00              2   \n4             850     Spain  Female   43       2  125510.82              1   \n...           ...       ...     ...  ...     ...        ...            ...   \n9995          771    France    Male   39       5       0.00              2   \n9996          516    France    Male   35      10   57369.61              1   \n9997          709    France  Female   36       7       0.00              1   \n9998          772   Germany    Male   42       3   75075.31              2   \n9999          792    France  Female   28       5  130142.79              1   \n\n      HasCrCard  IsActiveMember  EstimatedSalary  Exited  \n0             1               1        101348.88       1  \n1             0               1        112542.58       0  \n2             1               0        113931.57       1  \n3             0               0         93826.63       0  \n4             1               1         79084.10       0  \n...         ...             ...              ...     ...  \n9995          1               0         96270.64       0  \n9996          1               1        101699.77       0  \n9997          0               1         42085.58       1  \n9998          1               0         92888.52       1  \n9999          1               0         38190.78       0  \n\n[10000 rows x 11 columns]",
      "text/html": "<div>\n<style scoped>\n    .dataframe tbody tr th:only-of-type {\n        vertical-align: middle;\n    }\n\n    .dataframe tbody tr th {\n        vertical-align: top;\n    }\n\n    .dataframe thead th {\n        text-align: right;\n    }\n</style>\n<table border=\"1\" class=\"dataframe\">\n  <thead>\n    <tr style=\"text-align: right;\">\n      <th></th>\n      <th>CreditScore</th>\n      <th>Geography</th>\n      <th>Gender</th>\n      <th>Age</th>\n      <th>Tenure</th>\n      <th>Balance</th>\n      <th>NumOfProducts</th>\n      <th>HasCrCard</th>\n      <th>IsActiveMember</th>\n      <th>EstimatedSalary</th>\n      <th>Exited</th>\n    </tr>\n  </thead>\n  <tbody>\n    <tr>\n      <th>0</th>\n      <td>619</td>\n      <td>France</td>\n      <td>Female</td>\n      <td>42</td>\n      <td>2</td>\n      <td>0.00</td>\n      <td>1</td>\n      <td>1</td>\n      <td>1</td>\n      <td>101348.88</td>\n      <td>1</td>\n    </tr>\n    <tr>\n      <th>1</th>\n      <td>608</td>\n      <td>Spain</td>\n      <td>Female</td>\n      <td>41</td>\n      <td>1</td>\n      <td>83807.86</td>\n      <td>1</td>\n      <td>0</td>\n      <td>1</td>\n      <td>112542.58</td>\n      <td>0</td>\n    </tr>\n    <tr>\n      <th>2</th>\n      <td>502</td>\n      <td>France</td>\n      <td>Female</td>\n      <td>42</td>\n      <td>8</td>\n      <td>159660.80</td>\n      <td>3</td>\n      <td>1</td>\n      <td>0</td>\n      <td>113931.57</td>\n      <td>1</td>\n    </tr>\n    <tr>\n      <th>3</th>\n      <td>699</td>\n      <td>France</td>\n      <td>Female</td>\n      <td>39</td>\n      <td>1</td>\n      <td>0.00</td>\n      <td>2</td>\n      <td>0</td>\n      <td>0</td>\n      <td>93826.63</td>\n      <td>0</td>\n    </tr>\n    <tr>\n      <th>4</th>\n      <td>850</td>\n      <td>Spain</td>\n      <td>Female</td>\n      <td>43</td>\n      <td>2</td>\n      <td>125510.82</td>\n      <td>1</td>\n      <td>1</td>\n      <td>1</td>\n      <td>79084.10</td>\n      <td>0</td>\n    </tr>\n    <tr>\n      <th>...</th>\n      <td>...</td>\n      <td>...</td>\n      <td>...</td>\n      <td>...</td>\n      <td>...</td>\n      <td>...</td>\n      <td>...</td>\n      <td>...</td>\n      <td>...</td>\n      <td>...</td>\n      <td>...</td>\n    </tr>\n    <tr>\n      <th>9995</th>\n      <td>771</td>\n      <td>France</td>\n      <td>Male</td>\n      <td>39</td>\n      <td>5</td>\n      <td>0.00</td>\n      <td>2</td>\n      <td>1</td>\n      <td>0</td>\n      <td>96270.64</td>\n      <td>0</td>\n    </tr>\n    <tr>\n      <th>9996</th>\n      <td>516</td>\n      <td>France</td>\n      <td>Male</td>\n      <td>35</td>\n      <td>10</td>\n      <td>57369.61</td>\n      <td>1</td>\n      <td>1</td>\n      <td>1</td>\n      <td>101699.77</td>\n      <td>0</td>\n    </tr>\n    <tr>\n      <th>9997</th>\n      <td>709</td>\n      <td>France</td>\n      <td>Female</td>\n      <td>36</td>\n      <td>7</td>\n      <td>0.00</td>\n      <td>1</td>\n      <td>0</td>\n      <td>1</td>\n      <td>42085.58</td>\n      <td>1</td>\n    </tr>\n    <tr>\n      <th>9998</th>\n      <td>772</td>\n      <td>Germany</td>\n      <td>Male</td>\n      <td>42</td>\n      <td>3</td>\n      <td>75075.31</td>\n      <td>2</td>\n      <td>1</td>\n      <td>0</td>\n      <td>92888.52</td>\n      <td>1</td>\n    </tr>\n    <tr>\n      <th>9999</th>\n      <td>792</td>\n      <td>France</td>\n      <td>Female</td>\n      <td>28</td>\n      <td>5</td>\n      <td>130142.79</td>\n      <td>1</td>\n      <td>1</td>\n      <td>0</td>\n      <td>38190.78</td>\n      <td>0</td>\n    </tr>\n  </tbody>\n</table>\n<p>10000 rows × 11 columns</p>\n</div>"
     },
     "execution_count": 24,
     "metadata": {},
     "output_type": "execute_result"
    }
   ],
   "source": [
    "#сбросим два столбца, которые не помогут нам предсказать целевой признак>\n",
    "df_ohe = df.drop(['Surname', 'RowNumber', 'CustomerId'], axis = 1)\n",
    "df_ohe"
   ]
  },
  {
   "cell_type": "markdown",
   "metadata": {},
   "source": [
    "Для преобразования категориальных признаков в количественные с помощью прямого кодирования (OHE), мы можем использовать метод `.get_dummies`. Установим аргумент `drop_first = True`, чтобы избежать дамми-ловушки, где один из столбцов фиктивных переменных для каждого признака будет удален."
   ]
  },
  {
   "cell_type": "code",
   "execution_count": 25,
   "metadata": {
    "ExecuteTime": {
     "end_time": "2024-03-17T12:11:01.736044Z",
     "start_time": "2024-03-17T12:11:01.710430Z"
    }
   },
   "outputs": [],
   "source": [
    "# <Преобразуем категориальные признаки в фиктивные переменные, и сбросим по одному из них у каждого признака.>\n",
    "df_ohe = pd.get_dummies(df_ohe, drop_first=True)"
   ]
  },
  {
   "cell_type": "code",
   "execution_count": 26,
   "metadata": {
    "ExecuteTime": {
     "end_time": "2024-03-17T12:11:24.049605Z",
     "start_time": "2024-03-17T12:11:24.015914Z"
    }
   },
   "outputs": [
    {
     "name": "stdout",
     "output_type": "stream",
     "text": [
      "<class 'pandas.core.frame.DataFrame'>\n",
      "RangeIndex: 10000 entries, 0 to 9999\n",
      "Data columns (total 12 columns):\n",
      " #   Column             Non-Null Count  Dtype  \n",
      "---  ------             --------------  -----  \n",
      " 0   CreditScore        10000 non-null  int64  \n",
      " 1   Age                10000 non-null  int64  \n",
      " 2   Tenure             10000 non-null  int64  \n",
      " 3   Balance            10000 non-null  float64\n",
      " 4   NumOfProducts      10000 non-null  int64  \n",
      " 5   HasCrCard          10000 non-null  int64  \n",
      " 6   IsActiveMember     10000 non-null  int64  \n",
      " 7   EstimatedSalary    10000 non-null  float64\n",
      " 8   Exited             10000 non-null  int64  \n",
      " 9   Geography_Germany  10000 non-null  uint8  \n",
      " 10  Geography_Spain    10000 non-null  uint8  \n",
      " 11  Gender_Male        10000 non-null  uint8  \n",
      "dtypes: float64(2), int64(7), uint8(3)\n",
      "memory usage: 732.6 KB\n",
      "None\n"
     ]
    },
    {
     "data": {
      "text/plain": "   CreditScore  Age  Tenure    Balance  NumOfProducts  HasCrCard  \\\n0          619   42       2       0.00              1          1   \n1          608   41       1   83807.86              1          0   \n2          502   42       8  159660.80              3          1   \n3          699   39       1       0.00              2          0   \n4          850   43       2  125510.82              1          1   \n\n   IsActiveMember  EstimatedSalary  Exited  Geography_Germany  \\\n0               1        101348.88       1                  0   \n1               1        112542.58       0                  0   \n2               0        113931.57       1                  0   \n3               0         93826.63       0                  0   \n4               1         79084.10       0                  0   \n\n   Geography_Spain  Gender_Male  \n0                0            0  \n1                1            0  \n2                0            0  \n3                0            0  \n4                1            0  ",
      "text/html": "<div>\n<style scoped>\n    .dataframe tbody tr th:only-of-type {\n        vertical-align: middle;\n    }\n\n    .dataframe tbody tr th {\n        vertical-align: top;\n    }\n\n    .dataframe thead th {\n        text-align: right;\n    }\n</style>\n<table border=\"1\" class=\"dataframe\">\n  <thead>\n    <tr style=\"text-align: right;\">\n      <th></th>\n      <th>CreditScore</th>\n      <th>Age</th>\n      <th>Tenure</th>\n      <th>Balance</th>\n      <th>NumOfProducts</th>\n      <th>HasCrCard</th>\n      <th>IsActiveMember</th>\n      <th>EstimatedSalary</th>\n      <th>Exited</th>\n      <th>Geography_Germany</th>\n      <th>Geography_Spain</th>\n      <th>Gender_Male</th>\n    </tr>\n  </thead>\n  <tbody>\n    <tr>\n      <th>0</th>\n      <td>619</td>\n      <td>42</td>\n      <td>2</td>\n      <td>0.00</td>\n      <td>1</td>\n      <td>1</td>\n      <td>1</td>\n      <td>101348.88</td>\n      <td>1</td>\n      <td>0</td>\n      <td>0</td>\n      <td>0</td>\n    </tr>\n    <tr>\n      <th>1</th>\n      <td>608</td>\n      <td>41</td>\n      <td>1</td>\n      <td>83807.86</td>\n      <td>1</td>\n      <td>0</td>\n      <td>1</td>\n      <td>112542.58</td>\n      <td>0</td>\n      <td>0</td>\n      <td>1</td>\n      <td>0</td>\n    </tr>\n    <tr>\n      <th>2</th>\n      <td>502</td>\n      <td>42</td>\n      <td>8</td>\n      <td>159660.80</td>\n      <td>3</td>\n      <td>1</td>\n      <td>0</td>\n      <td>113931.57</td>\n      <td>1</td>\n      <td>0</td>\n      <td>0</td>\n      <td>0</td>\n    </tr>\n    <tr>\n      <th>3</th>\n      <td>699</td>\n      <td>39</td>\n      <td>1</td>\n      <td>0.00</td>\n      <td>2</td>\n      <td>0</td>\n      <td>0</td>\n      <td>93826.63</td>\n      <td>0</td>\n      <td>0</td>\n      <td>0</td>\n      <td>0</td>\n    </tr>\n    <tr>\n      <th>4</th>\n      <td>850</td>\n      <td>43</td>\n      <td>2</td>\n      <td>125510.82</td>\n      <td>1</td>\n      <td>1</td>\n      <td>1</td>\n      <td>79084.10</td>\n      <td>0</td>\n      <td>0</td>\n      <td>1</td>\n      <td>0</td>\n    </tr>\n  </tbody>\n</table>\n</div>"
     },
     "execution_count": 26,
     "metadata": {},
     "output_type": "execute_result"
    }
   ],
   "source": [
    "#<Посмотрим первые 5 строк преобразованного датафрейма\n",
    "print(df_ohe.info())\n",
    "df_ohe.head()\n"
   ]
  },
  {
   "cell_type": "markdown",
   "metadata": {},
   "source": [
    "Мы разделим наши данные на две части: обучающую+валидационную выборки и тестовую выборку в соотношении 4:1. Для улучшения оценки модели, мы также попробуем использовать кросс-валидацию, указав соответствующий аргумент в методе GridSearchCV."
   ]
  },
  {
   "cell_type": "code",
   "execution_count": 33,
   "metadata": {
    "ExecuteTime": {
     "end_time": "2024-03-17T12:28:43.571884Z",
     "start_time": "2024-03-17T12:28:43.547188Z"
    }
   },
   "outputs": [],
   "source": [
    "#Разделим обучающий датафрейм на features и target - целевой признак\n",
    "target = df_ohe['Exited']\n",
    "features = df_ohe.drop('Exited', axis=1)\n",
    "\n",
    "#Поделим датафрейм на обучающую выборку + валидационную выборку (которая далее будет использована для кросс-валидации) и тестовую выборку.\n",
    "features_train, features_test, target_train, target_test = train_test_split(\n",
    "    features, target, test_size=0.2, random_state=12345)"
   ]
  },
  {
   "cell_type": "markdown",
   "metadata": {},
   "source": [
    "Проведем масштабирование признаков:"
   ]
  },
  {
   "cell_type": "code",
   "execution_count": 28,
   "metadata": {
    "ExecuteTime": {
     "end_time": "2024-03-17T12:12:12.247889Z",
     "start_time": "2024-03-17T12:12:12.243085Z"
    }
   },
   "outputs": [],
   "source": [
    "#конкретизируем какие признаки будем масшатбировать\n",
    "numeric = ['CustomerId', 'CreditScore', 'Age', 'Tenure','Balance', 'NumOfProducts', 'EstimatedSalary']"
   ]
  },
  {
   "cell_type": "markdown",
   "metadata": {},
   "source": [
    "**Вывод:**\n",
    "- Мы провели анализ данных и заполнили пропущенные значения наиболее очевидным образом.\n",
    "- Для улучшения обработки данных мы изменили тип некоторых признаков на целочисленный, что более подходит для количественных данных, например, для количества недвижимости.\n",
    "- Провели исследовательский анализ данных, в котором рассмотрели баланс и отток пользователей, также рассмотрели распределение возрастов пользователей\n",
    "- Мы удалили из датафрейма столбцы, которые не предоставляют полезной информации для вычисления целевого признака.\n",
    "- Преобразовали категориальные признаки в количественные с помощью метода прямого кодирования (OHE), создав новые количественные фиктивные переменные для этих признаков.\n",
    "- Произвели масштабирование признаков для того, чтобы значения признаков не влияли на обучение алгоритма в большей мере только из-за своей абсолютной величины.\n",
    "- Для оценки модели мы разделили данные на обучающую+валидационную выборки и тестовую выборку. Первую мы использовали для обучения и валидации модели при переборе гиперпараметров с помощью метода GridSearchCV, который позволяет исследовать множество комбинаций гиперпараметров."
   ]
  },
  {
   "cell_type": "markdown",
   "metadata": {},
   "source": [
    "# Исследование задачи"
   ]
  },
  {
   "cell_type": "markdown",
   "metadata": {},
   "source": [
    "Исследуем баланс классов:"
   ]
  },
  {
   "cell_type": "code",
   "execution_count": 30,
   "metadata": {
    "ExecuteTime": {
     "end_time": "2024-03-17T12:14:30.737831Z",
     "start_time": "2024-03-17T12:14:30.636940Z"
    }
   },
   "outputs": [
    {
     "name": "stdout",
     "output_type": "stream",
     "text": [
      "0    0.7963\n",
      "1    0.2037\n",
      "Name: Exited, dtype: float64\n"
     ]
    },
    {
     "data": {
      "text/plain": "<Figure size 640x480 with 1 Axes>",
      "image/png": "[encoded data removed]"
     },
     "metadata": {},
     "output_type": "display_data"
    }
   ],
   "source": [
    "class_frequency = target.value_counts(normalize=True)\n",
    "print(class_frequency)\n",
    "class_frequency.plot(kind='bar', title='Соотношение тех, кто остался и тех кто ушел')\n",
    "plt.show()"
   ]
  },
  {
   "cell_type": "markdown",
   "metadata": {},
   "source": [
    "Мы столкнулись с дисбалансом классов, где 80% клиентов остаются в банке, что создает неравномерное распределение данных. Несмотря на это, мы попытаемся обучить модель, применяя метод GridSearchCV для подбора параметров модели дерева принятия решений.\n",
    "\n",
    "В коде:\n",
    "\n",
    "- Параметр `param_grid` представляет собой словарь, в котором указываются гиперпараметры и диапазоны их значений или конкретные значения в случае категориальных признаков.\n",
    "- В `np.arange` первый и второй аргументы указывают начало и конец последовательности, а третий аргумент - шаг. Например, `np.arange(0.5, 1, 0.1)` создает последовательность `[0.5, 0.6, 0.7, 0.8, 0.9]`.\n",
    "- `max_leaf_nodes` определяет максимальное количество листовых узлов в дереве решений.\n",
    "- `max_features` определяет количество признаков, которые следует учитывать при поиске лучшего разделения.\n",
    "- `min_samples_split` определяет минимальное количество объектов, необходимое для выполнения разделения в узле.\n",
    "- Параметр `cv` используется для кросс-валидации. Мы выбираем 4 блока, так как мы ранее использовали соотношение разделения на обучающую, валидационную и тестовую выборки 3:1:1. Таким образом, 4 фолда позволяют использовать три блока для обучения и один для валидации.\n",
    "- Параметр `scoring` указывает метрику оценки модели, которая в данном случае является F1-мерой, рекомендуемой для моделей классификации."
   ]
  },
  {
   "cell_type": "code",
   "execution_count": 31,
   "metadata": {
    "ExecuteTime": {
     "end_time": "2024-03-17T12:20:07.909845Z",
     "start_time": "2024-03-17T12:19:37.436046Z"
    }
   },
   "outputs": [
    {
     "name": "stdout",
     "output_type": "stream",
     "text": [
      "CPU times: user 30 s, sys: 268 ms, total: 30.3 s\n",
      "Wall time: 30.4 s\n"
     ]
    },
    {
     "data": {
      "text/plain": "GridSearchCV(cv=4, estimator=DecisionTreeClassifier(random_state=12345),\n             param_grid={'max_depth': [None, 2, 4, 6, 8, 10, 12, 14, 16, 18,\n                                       20],\n                         'max_features': ['auto', 'sqrt', None],\n                         'max_leaf_nodes': [None, 10, 20, 30, 40, 50, 60, 70,\n                                            80, 90, 100],\n                         'min_samples_split': [2, 5, 10]},\n             scoring='f1')",
      "text/html": "<style>#sk-container-id-1 {color: black;}#sk-container-id-1 pre{padding: 0;}#sk-container-id-1 div.sk-toggleable {background-color: white;}#sk-container-id-1 label.sk-toggleable__label {cursor: pointer;display: block;width: 100%;margin-bottom: 0;padding: 0.3em;box-sizing: border-box;text-align: center;}#sk-container-id-1 label.sk-toggleable__label-arrow:before {content: \"▸\";float: left;margin-right: 0.25em;color: #696969;}#sk-container-id-1 label.sk-toggleable__label-arrow:hover:before {color: black;}#sk-container-id-1 div.sk-estimator:hover label.sk-toggleable__label-arrow:before {color: black;}#sk-container-id-1 div.sk-toggleable__content {max-height: 0;max-width: 0;overflow: hidden;text-align: left;background-color: #f0f8ff;}#sk-container-id-1 div.sk-toggleable__content pre {margin: 0.2em;color: black;border-radius: 0.25em;background-color: #f0f8ff;}#sk-container-id-1 input.sk-toggleable__control:checked~div.sk-toggleable__content {max-height: 200px;max-width: 100%;overflow: auto;}#sk-container-id-1 input.sk-toggleable__control:checked~label.sk-toggleable__label-arrow:before {content: \"▾\";}#sk-container-id-1 div.sk-estimator input.sk-toggleable__control:checked~label.sk-toggleable__label {background-color: #d4ebff;}#sk-container-id-1 div.sk-label input.sk-toggleable__control:checked~label.sk-toggleable__label {background-color: #d4ebff;}#sk-container-id-1 input.sk-hidden--visually {border: 0;clip: rect(1px 1px 1px 1px);clip: rect(1px, 1px, 1px, 1px);height: 1px;margin: -1px;overflow: hidden;padding: 0;position: absolute;width: 1px;}#sk-container-id-1 div.sk-estimator {font-family: monospace;background-color: #f0f8ff;border: 1px dotted black;border-radius: 0.25em;box-sizing: border-box;margin-bottom: 0.5em;}#sk-container-id-1 div.sk-estimator:hover {background-color: #d4ebff;}#sk-container-id-1 div.sk-parallel-item::after {content: \"\";width: 100%;border-bottom: 1px solid gray;flex-grow: 1;}#sk-container-id-1 div.sk-label:hover label.sk-toggleable__label {background-color: #d4ebff;}#sk-container-id-1 div.sk-serial::before {content: \"\";position: absolute;border-left: 1px solid gray;box-sizing: border-box;top: 0;bottom: 0;left: 50%;z-index: 0;}#sk-container-id-1 div.sk-serial {display: flex;flex-direction: column;align-items: center;background-color: white;padding-right: 0.2em;padding-left: 0.2em;position: relative;}#sk-container-id-1 div.sk-item {position: relative;z-index: 1;}#sk-container-id-1 div.sk-parallel {display: flex;align-items: stretch;justify-content: center;background-color: white;position: relative;}#sk-container-id-1 div.sk-item::before, #sk-container-id-1 div.sk-parallel-item::before {content: \"\";position: absolute;border-left: 1px solid gray;box-sizing: border-box;top: 0;bottom: 0;left: 50%;z-index: -1;}#sk-container-id-1 div.sk-parallel-item {display: flex;flex-direction: column;z-index: 1;position: relative;background-color: white;}#sk-container-id-1 div.sk-parallel-item:first-child::after {align-self: flex-end;width: 50%;}#sk-container-id-1 div.sk-parallel-item:last-child::after {align-self: flex-start;width: 50%;}#sk-container-id-1 div.sk-parallel-item:only-child::after {width: 0;}#sk-container-id-1 div.sk-dashed-wrapped {border: 1px dashed gray;margin: 0 0.4em 0.5em 0.4em;box-sizing: border-box;padding-bottom: 0.4em;background-color: white;}#sk-container-id-1 div.sk-label label {font-family: monospace;font-weight: bold;display: inline-block;line-height: 1.2em;}#sk-container-id-1 div.sk-label-container {text-align: center;}#sk-container-id-1 div.sk-container {/* jupyter's `normalize.less` sets `[hidden] { display: none; }` but bootstrap.min.css set `[hidden] { display: none !important; }` so we also need the `!important` here to be able to override the default hidden behavior on the sphinx rendered scikit-learn.org. See: https://github.com/scikit-learn/scikit-learn/issues/21755 */display: inline-block !important;position: relative;}#sk-container-id-1 div.sk-text-repr-fallback {display: none;}</style><div id=\"sk-container-id-1\" class=\"sk-top-container\"><div class=\"sk-text-repr-fallback\"><pre>GridSearchCV(cv=4, estimator=DecisionTreeClassifier(random_state=12345),\n             param_grid={&#x27;max_depth&#x27;: [None, 2, 4, 6, 8, 10, 12, 14, 16, 18,\n                                       20],\n                         &#x27;max_features&#x27;: [&#x27;auto&#x27;, &#x27;sqrt&#x27;, None],\n                         &#x27;max_leaf_nodes&#x27;: [None, 10, 20, 30, 40, 50, 60, 70,\n                                            80, 90, 100],\n                         &#x27;min_samples_split&#x27;: [2, 5, 10]},\n             scoring=&#x27;f1&#x27;)</pre><b>In a Jupyter environment, please rerun this cell to show the HTML representation or trust the notebook. <br />On GitHub, the HTML representation is unable to render, please try loading this page with nbviewer.org.</b></div><div class=\"sk-container\" hidden><div class=\"sk-item sk-dashed-wrapped\"><div class=\"sk-label-container\"><div class=\"sk-label sk-toggleable\"><input class=\"sk-toggleable__control sk-hidden--visually\" id=\"sk-estimator-id-1\" type=\"checkbox\" ><label for=\"sk-estimator-id-1\" class=\"sk-toggleable__label sk-toggleable__label-arrow\">GridSearchCV</label><div class=\"sk-toggleable__content\"><pre>GridSearchCV(cv=4, estimator=DecisionTreeClassifier(random_state=12345),\n             param_grid={&#x27;max_depth&#x27;: [None, 2, 4, 6, 8, 10, 12, 14, 16, 18,\n                                       20],\n                         &#x27;max_features&#x27;: [&#x27;auto&#x27;, &#x27;sqrt&#x27;, None],\n                         &#x27;max_leaf_nodes&#x27;: [None, 10, 20, 30, 40, 50, 60, 70,\n                                            80, 90, 100],\n                         &#x27;min_samples_split&#x27;: [2, 5, 10]},\n             scoring=&#x27;f1&#x27;)</pre></div></div></div><div class=\"sk-parallel\"><div class=\"sk-parallel-item\"><div class=\"sk-item\"><div class=\"sk-label-container\"><div class=\"sk-label sk-toggleable\"><input class=\"sk-toggleable__control sk-hidden--visually\" id=\"sk-estimator-id-2\" type=\"checkbox\" ><label for=\"sk-estimator-id-2\" class=\"sk-toggleable__label sk-toggleable__label-arrow\">estimator: DecisionTreeClassifier</label><div class=\"sk-toggleable__content\"><pre>DecisionTreeClassifier(random_state=12345)</pre></div></div></div><div class=\"sk-serial\"><div class=\"sk-item\"><div class=\"sk-estimator sk-toggleable\"><input class=\"sk-toggleable__control sk-hidden--visually\" id=\"sk-estimator-id-3\" type=\"checkbox\" ><label for=\"sk-estimator-id-3\" class=\"sk-toggleable__label sk-toggleable__label-arrow\">DecisionTreeClassifier</label><div class=\"sk-toggleable__content\"><pre>DecisionTreeClassifier(random_state=12345)</pre></div></div></div></div></div></div></div></div></div></div>"
     },
     "execution_count": 31,
     "metadata": {},
     "output_type": "execute_result"
    }
   ],
   "source": [
    "%%time\n",
    "#сетка гиперпараметров, по которой будет происходить исчерпывающий поиск\n",
    "param_grid = {\n",
    "    'max_depth': [None] + list(np.arange(2, 21,2).astype(int)),\n",
    "    'max_features': ['auto', 'sqrt', None],\n",
    "    'max_leaf_nodes': [None] + list(np.arange(10, 101, 10).astype(int)),\n",
    "    'min_samples_split': [2, 5, 10]\n",
    "}\n",
    "\n",
    "#дерево принятия решений к которому будем подбирать параметры\n",
    "estimator = DecisionTreeClassifier(random_state = 12345)\n",
    "\n",
    "# модель\n",
    "model = GridSearchCV(estimator, param_grid, cv=4, scoring = 'f1')\n",
    "\n",
    "# <обучаем модель> \n",
    "model.fit(features_train, target_train)"
   ]
  },
  {
   "cell_type": "code",
   "execution_count": 32,
   "metadata": {
    "ExecuteTime": {
     "end_time": "2024-03-17T12:26:49.962062Z",
     "start_time": "2024-03-17T12:26:49.954103Z"
    }
   },
   "outputs": [
    {
     "data": {
      "text/plain": "0.5768289272865151"
     },
     "execution_count": 32,
     "metadata": {},
     "output_type": "execute_result"
    }
   ],
   "source": [
    "# <среднее значение F1-меры по разным выборкам>\n",
    "model.best_score_"
   ]
  },
  {
   "cell_type": "markdown",
   "metadata": {},
   "source": [
    "Оценка чуть выше средней, близка к оценке, к которой мы стремимся."
   ]
  },
  {
   "cell_type": "markdown",
   "metadata": {},
   "source": [
    "В этом блоке мы произвели вычисление AUC-ROC для модели с использованием кросс-валидации. Сначала мы импортировали необходимые библиотеки и функции, затем обработали данные, чтобы избежать проблем с NaN значениями. Далее, определили количество блоков для кросс-валидации (в данном случае 4), и вычислили AUC-ROC для каждого блока. После этого мы нашли среднее значение AUC-ROC по всем блокам, чтобы получить финальную оценку качества модели."
   ]
  },
  {
   "cell_type": "code",
   "execution_count": 34,
   "metadata": {
    "ExecuteTime": {
     "end_time": "2024-03-17T12:29:33.039949Z",
     "start_time": "2024-03-17T12:29:32.990095Z"
    }
   },
   "outputs": [
    {
     "data": {
      "text/plain": "0.8759092416093873"
     },
     "execution_count": 34,
     "metadata": {},
     "output_type": "execute_result"
    }
   ],
   "source": [
    "features_train = features_train.reset_index(drop = True)\n",
    "target_train = target_train.reset_index(drop = True)\n",
    "\n",
    "auc_roc_scores = []\n",
    "\n",
    "sample_size = int(len(features_train)/4)\n",
    "\n",
    "for i in range(0, len(features_train), sample_size):\n",
    "    valid_indexes = list(range(i, i + sample_size))\n",
    "    train_indexes = list(range(0,len(features_train)))\n",
    "    del train_indexes[i:(i + sample_size)]\n",
    "    \n",
    "    features_valid = features_train.loc[valid_indexes,]\n",
    "    target_valid = target_train.loc[valid_indexes,]\n",
    "    probabilities_valid = model.predict_proba(features_valid)\n",
    "    probabilities_one_valid = probabilities_valid[:, 1]\n",
    "    auc_roc = roc_auc_score(target_valid,probabilities_one_valid)\n",
    "        \n",
    "    auc_roc_scores.append(auc_roc)\n",
    "\n",
    "auc_roc_scores = pd.Series(auc_roc_scores)\n",
    "final_score = auc_roc_scores.mean()\n",
    "final_score"
   ]
  },
  {
   "cell_type": "markdown",
   "metadata": {},
   "source": [
    "Эта оценка выше 0.5, а значит проходит проверку на адекватность. Но модель всё еще не идеальна."
   ]
  },
  {
   "cell_type": "code",
   "execution_count": 35,
   "metadata": {
    "ExecuteTime": {
     "end_time": "2024-03-17T12:29:45.309597Z",
     "start_time": "2024-03-17T12:29:45.295807Z"
    }
   },
   "outputs": [
    {
     "data": {
      "text/plain": "{'max_depth': 12,\n 'max_features': None,\n 'max_leaf_nodes': 70,\n 'min_samples_split': 2}"
     },
     "execution_count": 35,
     "metadata": {},
     "output_type": "execute_result"
    }
   ],
   "source": [
    "# <набор параметров, которые подобрал исчерпывающий поиск по гиперпараметрам модели.>\n",
    "model.best_params_"
   ]
  },
  {
   "cell_type": "markdown",
   "metadata": {},
   "source": [
    "Попробуем RandomizedSearchCV - случайный поиск по гиперпараметрам с моделью случайного леса.\n",
    "\n",
    "* bootstrap - Бутстрэп-агрегирование или бэггинг, алгоритм предназначенный для улучшения стабильности и точности алгоритмов машинного обучения, также уменьшает дисперсию и помогает избежать переобучения."
   ]
  },
  {
   "cell_type": "code",
   "execution_count": 36,
   "metadata": {
    "ExecuteTime": {
     "end_time": "2024-03-17T12:30:26.622782Z",
     "start_time": "2024-03-17T12:30:07.242275Z"
    }
   },
   "outputs": [
    {
     "name": "stdout",
     "output_type": "stream",
     "text": [
      "CPU times: user 19.2 s, sys: 129 ms, total: 19.4 s\n",
      "Wall time: 19.4 s\n"
     ]
    },
    {
     "data": {
      "text/plain": "RandomizedSearchCV(cv=4, estimator=RandomForestClassifier(random_state=12345),\n                   param_distributions={'bootstrap': [True, False],\n                                        'max_depth': [None, 2, 4, 6, 8, 10, 12,\n                                                      14, 16, 18, 20],\n                                        'max_features': ['auto', 'sqrt', None],\n                                        'max_leaf_nodes': [None, 10, 20, 30, 40,\n                                                           50, 60, 70, 80, 90,\n                                                           100],\n                                        'min_samples_split': [2, 5, 10],\n                                        'n_estimators': [2, 4, 6, 8, 10, 12, 14,\n                                                         16, 18, 20, 22, 24, 26,\n                                                         28, 30, 32, 34, 36, 38,\n                                                         40, 42, 44, 46, 48, 50,\n                                                         52, 54, 56, 58, 60, ...]},\n                   scoring='f1')",
      "text/html": "<style>#sk-container-id-2 {color: black;}#sk-container-id-2 pre{padding: 0;}#sk-container-id-2 div.sk-toggleable {background-color: white;}#sk-container-id-2 label.sk-toggleable__label {cursor: pointer;display: block;width: 100%;margin-bottom: 0;padding: 0.3em;box-sizing: border-box;text-align: center;}#sk-container-id-2 label.sk-toggleable__label-arrow:before {content: \"▸\";float: left;margin-right: 0.25em;color: #696969;}#sk-container-id-2 label.sk-toggleable__label-arrow:hover:before {color: black;}#sk-container-id-2 div.sk-estimator:hover label.sk-toggleable__label-arrow:before {color: black;}#sk-container-id-2 div.sk-toggleable__content {max-height: 0;max-width: 0;overflow: hidden;text-align: left;background-color: #f0f8ff;}#sk-container-id-2 div.sk-toggleable__content pre {margin: 0.2em;color: black;border-radius: 0.25em;background-color: #f0f8ff;}#sk-container-id-2 input.sk-toggleable__control:checked~div.sk-toggleable__content {max-height: 200px;max-width: 100%;overflow: auto;}#sk-container-id-2 input.sk-toggleable__control:checked~label.sk-toggleable__label-arrow:before {content: \"▾\";}#sk-container-id-2 div.sk-estimator input.sk-toggleable__control:checked~label.sk-toggleable__label {background-color: #d4ebff;}#sk-container-id-2 div.sk-label input.sk-toggleable__control:checked~label.sk-toggleable__label {background-color: #d4ebff;}#sk-container-id-2 input.sk-hidden--visually {border: 0;clip: rect(1px 1px 1px 1px);clip: rect(1px, 1px, 1px, 1px);height: 1px;margin: -1px;overflow: hidden;padding: 0;position: absolute;width: 1px;}#sk-container-id-2 div.sk-estimator {font-family: monospace;background-color: #f0f8ff;border: 1px dotted black;border-radius: 0.25em;box-sizing: border-box;margin-bottom: 0.5em;}#sk-container-id-2 div.sk-estimator:hover {background-color: #d4ebff;}#sk-container-id-2 div.sk-parallel-item::after {content: \"\";width: 100%;border-bottom: 1px solid gray;flex-grow: 1;}#sk-container-id-2 div.sk-label:hover label.sk-toggleable__label {background-color: #d4ebff;}#sk-container-id-2 div.sk-serial::before {content: \"\";position: absolute;border-left: 1px solid gray;box-sizing: border-box;top: 0;bottom: 0;left: 50%;z-index: 0;}#sk-container-id-2 div.sk-serial {display: flex;flex-direction: column;align-items: center;background-color: white;padding-right: 0.2em;padding-left: 0.2em;position: relative;}#sk-container-id-2 div.sk-item {position: relative;z-index: 1;}#sk-container-id-2 div.sk-parallel {display: flex;align-items: stretch;justify-content: center;background-color: white;position: relative;}#sk-container-id-2 div.sk-item::before, #sk-container-id-2 div.sk-parallel-item::before {content: \"\";position: absolute;border-left: 1px solid gray;box-sizing: border-box;top: 0;bottom: 0;left: 50%;z-index: -1;}#sk-container-id-2 div.sk-parallel-item {display: flex;flex-direction: column;z-index: 1;position: relative;background-color: white;}#sk-container-id-2 div.sk-parallel-item:first-child::after {align-self: flex-end;width: 50%;}#sk-container-id-2 div.sk-parallel-item:last-child::after {align-self: flex-start;width: 50%;}#sk-container-id-2 div.sk-parallel-item:only-child::after {width: 0;}#sk-container-id-2 div.sk-dashed-wrapped {border: 1px dashed gray;margin: 0 0.4em 0.5em 0.4em;box-sizing: border-box;padding-bottom: 0.4em;background-color: white;}#sk-container-id-2 div.sk-label label {font-family: monospace;font-weight: bold;display: inline-block;line-height: 1.2em;}#sk-container-id-2 div.sk-label-container {text-align: center;}#sk-container-id-2 div.sk-container {/* jupyter's `normalize.less` sets `[hidden] { display: none; }` but bootstrap.min.css set `[hidden] { display: none !important; }` so we also need the `!important` here to be able to override the default hidden behavior on the sphinx rendered scikit-learn.org. See: https://github.com/scikit-learn/scikit-learn/issues/21755 */display: inline-block !important;position: relative;}#sk-container-id-2 div.sk-text-repr-fallback {display: none;}</style><div id=\"sk-container-id-2\" class=\"sk-top-container\"><div class=\"sk-text-repr-fallback\"><pre>RandomizedSearchCV(cv=4, estimator=RandomForestClassifier(random_state=12345),\n                   param_distributions={&#x27;bootstrap&#x27;: [True, False],\n                                        &#x27;max_depth&#x27;: [None, 2, 4, 6, 8, 10, 12,\n                                                      14, 16, 18, 20],\n                                        &#x27;max_features&#x27;: [&#x27;auto&#x27;, &#x27;sqrt&#x27;, None],\n                                        &#x27;max_leaf_nodes&#x27;: [None, 10, 20, 30, 40,\n                                                           50, 60, 70, 80, 90,\n                                                           100],\n                                        &#x27;min_samples_split&#x27;: [2, 5, 10],\n                                        &#x27;n_estimators&#x27;: [2, 4, 6, 8, 10, 12, 14,\n                                                         16, 18, 20, 22, 24, 26,\n                                                         28, 30, 32, 34, 36, 38,\n                                                         40, 42, 44, 46, 48, 50,\n                                                         52, 54, 56, 58, 60, ...]},\n                   scoring=&#x27;f1&#x27;)</pre><b>In a Jupyter environment, please rerun this cell to show the HTML representation or trust the notebook. <br />On GitHub, the HTML representation is unable to render, please try loading this page with nbviewer.org.</b></div><div class=\"sk-container\" hidden><div class=\"sk-item sk-dashed-wrapped\"><div class=\"sk-label-container\"><div class=\"sk-label sk-toggleable\"><input class=\"sk-toggleable__control sk-hidden--visually\" id=\"sk-estimator-id-4\" type=\"checkbox\" ><label for=\"sk-estimator-id-4\" class=\"sk-toggleable__label sk-toggleable__label-arrow\">RandomizedSearchCV</label><div class=\"sk-toggleable__content\"><pre>RandomizedSearchCV(cv=4, estimator=RandomForestClassifier(random_state=12345),\n                   param_distributions={&#x27;bootstrap&#x27;: [True, False],\n                                        &#x27;max_depth&#x27;: [None, 2, 4, 6, 8, 10, 12,\n                                                      14, 16, 18, 20],\n                                        &#x27;max_features&#x27;: [&#x27;auto&#x27;, &#x27;sqrt&#x27;, None],\n                                        &#x27;max_leaf_nodes&#x27;: [None, 10, 20, 30, 40,\n                                                           50, 60, 70, 80, 90,\n                                                           100],\n                                        &#x27;min_samples_split&#x27;: [2, 5, 10],\n                                        &#x27;n_estimators&#x27;: [2, 4, 6, 8, 10, 12, 14,\n                                                         16, 18, 20, 22, 24, 26,\n                                                         28, 30, 32, 34, 36, 38,\n                                                         40, 42, 44, 46, 48, 50,\n                                                         52, 54, 56, 58, 60, ...]},\n                   scoring=&#x27;f1&#x27;)</pre></div></div></div><div class=\"sk-parallel\"><div class=\"sk-parallel-item\"><div class=\"sk-item\"><div class=\"sk-label-container\"><div class=\"sk-label sk-toggleable\"><input class=\"sk-toggleable__control sk-hidden--visually\" id=\"sk-estimator-id-5\" type=\"checkbox\" ><label for=\"sk-estimator-id-5\" class=\"sk-toggleable__label sk-toggleable__label-arrow\">estimator: RandomForestClassifier</label><div class=\"sk-toggleable__content\"><pre>RandomForestClassifier(random_state=12345)</pre></div></div></div><div class=\"sk-serial\"><div class=\"sk-item\"><div class=\"sk-estimator sk-toggleable\"><input class=\"sk-toggleable__control sk-hidden--visually\" id=\"sk-estimator-id-6\" type=\"checkbox\" ><label for=\"sk-estimator-id-6\" class=\"sk-toggleable__label sk-toggleable__label-arrow\">RandomForestClassifier</label><div class=\"sk-toggleable__content\"><pre>RandomForestClassifier(random_state=12345)</pre></div></div></div></div></div></div></div></div></div></div>"
     },
     "execution_count": 36,
     "metadata": {},
     "output_type": "execute_result"
    }
   ],
   "source": [
    "%%time\n",
    "# <сетка гиперпараметров, по которой будет происходит случайный поиск>\n",
    "param_grid = {\n",
    "    'n_estimators': list(np.arange(2, 101, 2).astype(int)),\n",
    "    'max_depth': [None] + list(np.arange(2, 21,2).astype(int)),\n",
    "    'max_features': ['auto', 'sqrt', None],\n",
    "    'max_leaf_nodes': [None] + list(np.arange(10, 101, 10).astype(int)),\n",
    "    'min_samples_split': [2, 5, 10],\n",
    "    'bootstrap': [True, False]\n",
    "}\n",
    "\n",
    "# <случайный лес к которому будем подбирать параметры>\n",
    "estimator = RandomForestClassifier(random_state = 12345)\n",
    "\n",
    "# <модель>\n",
    "model_rf = RandomizedSearchCV(estimator, param_grid, cv=4, scoring = 'f1')\n",
    "\n",
    "# <обучаем модель> \n",
    "model_rf.fit(features_train, target_train)"
   ]
  },
  {
   "cell_type": "code",
   "execution_count": 38,
   "metadata": {
    "ExecuteTime": {
     "end_time": "2024-03-17T12:31:07.429464Z",
     "start_time": "2024-03-17T12:31:07.423011Z"
    }
   },
   "outputs": [
    {
     "data": {
      "text/plain": "0.5771719752372431"
     },
     "execution_count": 38,
     "metadata": {},
     "output_type": "execute_result"
    }
   ],
   "source": [
    "# <среднее значение F1-меры по разным выборкам>\n",
    "model_rf.best_score_"
   ]
  },
  {
   "cell_type": "markdown",
   "metadata": {},
   "source": [
    "Оценка хуже чем у одного дерева принятия решений. Подсчитаем AUC-ROC:"
   ]
  },
  {
   "cell_type": "code",
   "execution_count": 39,
   "metadata": {
    "ExecuteTime": {
     "end_time": "2024-03-17T12:31:09.107380Z",
     "start_time": "2024-03-17T12:31:09.023401Z"
    }
   },
   "outputs": [
    {
     "data": {
      "text/plain": "0.8920550063860868"
     },
     "execution_count": 39,
     "metadata": {},
     "output_type": "execute_result"
    }
   ],
   "source": [
    "auc_roc_scores = []\n",
    "\n",
    "sample_size = int(len(features_train)/4)\n",
    "\n",
    "for i in range(0, len(features_train), sample_size):\n",
    "    valid_indexes = list(range(i, i + sample_size))\n",
    "    train_indexes = list(range(0,len(features_train)))\n",
    "    del train_indexes[i:(i + sample_size)]\n",
    "    \n",
    "    features_valid = features_train.loc[valid_indexes,]\n",
    "    target_valid = target_train.loc[valid_indexes,]\n",
    "    probabilities_valid = model_rf.predict_proba(features_valid)\n",
    "    probabilities_one_valid = probabilities_valid[:, 1]\n",
    "    auc_roc = roc_auc_score(target_valid,probabilities_one_valid)    \n",
    "    \n",
    "    auc_roc_scores.append(auc_roc)\n",
    "\n",
    "auc_roc_scores = pd.Series(auc_roc_scores)\n",
    "final_score = auc_roc_scores.mean()\n",
    "final_score"
   ]
  },
  {
   "cell_type": "markdown",
   "metadata": {},
   "source": [
    "Оценка разнится в зависимости от отработки случайного поиска, но примерно равна таковой у дерева принятия решений."
   ]
  },
  {
   "cell_type": "code",
   "execution_count": 40,
   "metadata": {
    "ExecuteTime": {
     "end_time": "2024-03-17T12:32:39.839837Z",
     "start_time": "2024-03-17T12:32:39.831336Z"
    }
   },
   "outputs": [
    {
     "data": {
      "text/plain": "{'n_estimators': 88,\n 'min_samples_split': 5,\n 'max_leaf_nodes': 60,\n 'max_features': None,\n 'max_depth': 20,\n 'bootstrap': True}"
     },
     "execution_count": 40,
     "metadata": {},
     "output_type": "execute_result"
    }
   ],
   "source": [
    "# <набор параметров, которые подобрал исчерпывающий поиск по гиперпараметрам модели.>\n",
    "model_rf.best_params_"
   ]
  },
  {
   "cell_type": "markdown",
   "metadata": {},
   "source": [
    "Попробуем логистическую регрессию:"
   ]
  },
  {
   "cell_type": "code",
   "execution_count": 41,
   "metadata": {
    "ExecuteTime": {
     "end_time": "2024-03-17T12:32:52.990653Z",
     "start_time": "2024-03-17T12:32:52.736240Z"
    }
   },
   "outputs": [
    {
     "data": {
      "text/plain": "0.08952117874268846"
     },
     "execution_count": 41,
     "metadata": {},
     "output_type": "execute_result"
    }
   ],
   "source": [
    "# <Создадим модель лог. регрессии,>\n",
    "model_lr = LogisticRegression(random_state=12345)\n",
    "\n",
    "# <Оценим качество модели, обученной в ходе перекрестной проверки>\n",
    "score = cross_val_score(model_lr,features_train, target_train,cv=4,scoring='f1').mean()\n",
    "\n",
    "# <обучаем модель> \n",
    "model_lr.fit(features_train, target_train)\n",
    "\n",
    "# <выведем долю правильных ответов>\n",
    "score"
   ]
  },
  {
   "cell_type": "markdown",
   "metadata": {},
   "source": [
    "Слабая оценка. В следующем пункте попробуем избавиться от дисбаланса, и снова обучить модель. Подсчитаем AUC-ROC:"
   ]
  },
  {
   "cell_type": "code",
   "execution_count": 42,
   "metadata": {
    "ExecuteTime": {
     "end_time": "2024-03-17T12:33:37.485367Z",
     "start_time": "2024-03-17T12:33:37.443216Z"
    }
   },
   "outputs": [
    {
     "data": {
      "text/plain": "0.6682804804969497"
     },
     "execution_count": 42,
     "metadata": {},
     "output_type": "execute_result"
    }
   ],
   "source": [
    "auc_roc_scores = []\n",
    "\n",
    "sample_size = int(len(features_train)/4)\n",
    "\n",
    "for i in range(0, len(features_train), sample_size):\n",
    "    valid_indexes = list(range(i, i + sample_size))\n",
    "    train_indexes = list(range(0,len(features_train)))\n",
    "    del train_indexes[i:(i + sample_size)]\n",
    "    \n",
    "    features_valid = features_train.loc[valid_indexes,]\n",
    "    target_valid = target_train.loc[valid_indexes,]\n",
    "    \n",
    "    probabilities_valid = model_lr.predict_proba(features_valid)\n",
    "    probabilities_one_valid = probabilities_valid[:, 1]\n",
    "    auc_roc = roc_auc_score(target_valid,probabilities_one_valid)\n",
    "        \n",
    "    auc_roc_scores.append(auc_roc)\n",
    "\n",
    "auc_roc_scores = pd.Series(auc_roc_scores)\n",
    "final_score = auc_roc_scores.mean()\n",
    "final_score"
   ]
  },
  {
   "cell_type": "markdown",
   "metadata": {},
   "source": [
    "Самая низкая оценка была получена на логистической регрессии."
   ]
  },
  {
   "cell_type": "markdown",
   "metadata": {},
   "source": [
    "**Вывод:**\n",
    "* Мы провели анализ сбалансированности целевого признака и обнаружили дисбаланс.\n",
    "* С использованием метода GridSearchCV мы нашли оптимальные гиперпараметры для модели дерева принятия решений.\n",
    "* С применением метода RandomizedSearchCV мы подобрали гиперпараметры для модели случайного леса. Результат примерно совпадает с результатом модели дерева принятия решений.\n",
    "* Попытка обучить логистическую регрессию привела к значительно худшей оценке по сравнению с \"деревянными\" алгоритмами.\n",
    "\n",
    "Далее планируется устранить дисбаланс классов и повторно обучить модель."
   ]
  },
  {
   "cell_type": "markdown",
   "metadata": {},
   "source": [
    "\n",
    "\n",
    "# Борьба с дисбалансом"
   ]
  },
  {
   "cell_type": "markdown",
   "metadata": {},
   "source": [
    "В данном цикле происходит перебор моделей дерева принятия решений с различными гиперпараметрами, затем идет оценка модели на валидационной выборке, используется кросс-валидация, написанную на питоне. Она была изучена в следующем спринте. Также происходит апсемплинг положительного класса.\n",
    "\n",
    "Здесь и далее будет происходит перебор не всех возможных значений гиперпараметров"
   ]
  },
  {
   "cell_type": "code",
   "execution_count": 43,
   "metadata": {
    "ExecuteTime": {
     "end_time": "2024-03-17T12:37:16.019949Z",
     "start_time": "2024-03-17T12:37:15.379157Z"
    }
   },
   "outputs": [
    {
     "name": "stdout",
     "output_type": "stream",
     "text": [
      "max_depth = 2 min_samples_split = 2 : 0.5133\n",
      "max_depth = 2 min_samples_split = 5 : 0.5133\n",
      "max_depth = 2 min_samples_split = 10 : 0.5133\n",
      "max_depth = 4 min_samples_split = 2 : 0.5254\n",
      "max_depth = 4 min_samples_split = 5 : 0.5254\n",
      "max_depth = 4 min_samples_split = 10 : 0.5254\n",
      "max_depth = 6 min_samples_split = 2 : 0.5607\n",
      "max_depth = 6 min_samples_split = 5 : 0.5607\n",
      "max_depth = 6 min_samples_split = 10 : 0.5606\n",
      "CPU times: user 608 ms, sys: 24.2 ms, total: 632 ms\n",
      "Wall time: 632 ms\n"
     ]
    }
   ],
   "source": [
    "%%time\n",
    "for depth in range(2,7,2):\n",
    "    for samples in [2, 5, 10]:\n",
    "        model = DecisionTreeClassifier(random_state=0, max_depth=depth, \n",
    "                                               min_samples_split = samples\n",
    "                                               )\n",
    "                \n",
    "        sample_size = int(len(features_train)/4)\n",
    "        scores = []\n",
    "        \n",
    "        for i in range(0, len(features_train), sample_size):\n",
    "            valid_indexes = list(range(i, i + sample_size))\n",
    "            train_indexes = list(range(0,len(features_train)))\n",
    "                    \n",
    "            del train_indexes[i:(i + sample_size)]\n",
    "                    \n",
    "            features_train_1 = features_train.loc[train_indexes,]\n",
    "            features_valid = features_train.loc[valid_indexes,]\n",
    "            target_train_1 = target_train.loc[train_indexes,]\n",
    "            target_valid = target_train.loc[valid_indexes,]\n",
    "                    \n",
    "            features_train_1['Exited'] = target_train_1\n",
    "                \n",
    "            features_train_majority = features_train_1[features_train_1.Exited==0]\n",
    "            features_train_minority = features_train_1[features_train_1.Exited==1]\n",
    "                    \n",
    "            features_train_minority_upsampled = resample(features_train_minority, \n",
    "                                 replace=True,     \n",
    "                                 n_samples=int(features_train_majority['Age'].count()),    \n",
    "                                 random_state=123)\n",
    "            \n",
    "            features_train_upsampled = pd.concat([features_train_majority, features_train_minority_upsampled])\n",
    "                    \n",
    "                    \n",
    "            target_train_upsampled = features_train_upsampled['Exited']\n",
    "            features_train_upsampled = features_train_upsampled.drop('Exited', axis=1)\n",
    "                    \n",
    "            model.fit(features_train_upsampled, target_train_upsampled)\n",
    "            predictions = model.predict(features_valid)\n",
    "            score = f1_score(target_valid, predictions)\n",
    "            scores.append(score)\n",
    "                    \n",
    "            if i == (sample_size * 3):\n",
    "                scores = pd.Series(scores)\n",
    "                print('max_depth =',depth,'min_samples_split =',samples,': {:.4f}'.format(scores.mean()))"
   ]
  },
  {
   "cell_type": "markdown",
   "metadata": {},
   "source": [
    "Лучшая оценка у дерева с параметрами max_depth = 6, min_samples_split = 10. Она равна 0.5606. Она ниже чем у дерева, подобранного GridSearchCV. Но и гиперпараметров мы перебирали меньше. Подсчитаем AUC-ROC:"
   ]
  },
  {
   "cell_type": "code",
   "execution_count": 44,
   "metadata": {
    "ExecuteTime": {
     "end_time": "2024-03-17T12:37:39.844420Z",
     "start_time": "2024-03-17T12:37:39.805702Z"
    }
   },
   "outputs": [
    {
     "data": {
      "text/plain": "0.850895259357214"
     },
     "execution_count": 44,
     "metadata": {},
     "output_type": "execute_result"
    }
   ],
   "source": [
    "auc_roc_scores = []\n",
    "\n",
    "sample_size = int(len(features_train)/4)\n",
    "\n",
    "for i in range(0, len(features_train), sample_size):\n",
    "    valid_indexes = list(range(i, i + sample_size))\n",
    "    train_indexes = list(range(0,len(features_train)))\n",
    "    del train_indexes[i:(i + sample_size)]\n",
    "    \n",
    "    features_valid = features_train.loc[valid_indexes,]\n",
    "    target_valid = target_train.loc[valid_indexes,]\n",
    "    probabilities_valid = model.predict_proba(features_valid)\n",
    "    probabilities_one_valid = probabilities_valid[:, 1]\n",
    "    auc_roc = roc_auc_score(target_valid,probabilities_one_valid)    \n",
    "    \n",
    "    auc_roc_scores.append(auc_roc)\n",
    "\n",
    "auc_roc_scores = pd.Series(auc_roc_scores)\n",
    "final_score = auc_roc_scores.mean()\n",
    "final_score"
   ]
  },
  {
   "cell_type": "markdown",
   "metadata": {},
   "source": [
    "Далее опробуем тоже самое обучение на логистической регресии:"
   ]
  },
  {
   "cell_type": "code",
   "execution_count": 45,
   "metadata": {
    "ExecuteTime": {
     "end_time": "2024-03-17T12:37:42.039862Z",
     "start_time": "2024-03-17T12:37:41.890470Z"
    }
   },
   "outputs": [
    {
     "name": "stdout",
     "output_type": "stream",
     "text": [
      "f1_score = 0.4133\n",
      "CPU times: user 193 ms, sys: 367 ms, total: 560 ms\n",
      "Wall time: 139 ms\n"
     ]
    }
   ],
   "source": [
    "%%time\n",
    "model = LogisticRegression()\n",
    "                \n",
    "sample_size = int(len(features_train)/4)\n",
    "scores = []\n",
    "        \n",
    "for i in range(0, len(features_train), sample_size):\n",
    "    valid_indexes = list(range(i, i + sample_size))\n",
    "    train_indexes = list(range(0,len(features_train)))\n",
    "                    \n",
    "    del train_indexes[i:(i + sample_size)]\n",
    "                    \n",
    "    features_train_1 = features_train.loc[train_indexes,]\n",
    "    features_valid = features_train.loc[valid_indexes,]\n",
    "    target_train_1 = target_train.loc[train_indexes,]\n",
    "    target_valid = target_train.loc[valid_indexes,]\n",
    "                    \n",
    "    features_train_1['Exited'] = target_train_1\n",
    "                \n",
    "    features_train_majority = features_train_1[features_train_1.Exited==0]\n",
    "    features_train_minority = features_train_1[features_train_1.Exited==1]\n",
    "                    \n",
    "    features_train_minority_upsampled = resample(features_train_minority, \n",
    "                                 replace=True,     \n",
    "                                 n_samples=int(features_train_majority['Age'].count()),    \n",
    "                                 random_state=123)\n",
    "            \n",
    "    features_train_upsampled = pd.concat([features_train_majority, features_train_minority_upsampled])\n",
    "                    \n",
    "                    \n",
    "    target_train_upsampled = features_train_upsampled['Exited']\n",
    "    features_train_upsampled = features_train_upsampled.drop('Exited', axis=1)\n",
    "                    \n",
    "    model.fit(features_train_upsampled, target_train_upsampled)\n",
    "    predictions = model.predict(features_valid)\n",
    "    score = f1_score(target_valid, predictions)\n",
    "    scores.append(score)\n",
    "                    \n",
    "    if i == (sample_size * 3):\n",
    "        scores = pd.Series(scores)\n",
    "        print('f1_score =','{:.4f}'.format(scores.mean()))"
   ]
  },
  {
   "cell_type": "code",
   "execution_count": 46,
   "metadata": {
    "ExecuteTime": {
     "end_time": "2024-03-17T12:37:45.716594Z",
     "start_time": "2024-03-17T12:37:45.695221Z"
    }
   },
   "outputs": [
    {
     "data": {
      "text/plain": "0.705549653345804"
     },
     "execution_count": 46,
     "metadata": {},
     "output_type": "execute_result"
    }
   ],
   "source": [
    "auc_roc_scores = []\n",
    "\n",
    "sample_size = int(len(features_train)/4)\n",
    "\n",
    "for i in range(0, len(features_train), sample_size):\n",
    "    valid_indexes = list(range(i, i + sample_size))\n",
    "    train_indexes = list(range(0,len(features_train)))\n",
    "    del train_indexes[i:(i + sample_size)]\n",
    "    \n",
    "    features_valid = features_train.loc[valid_indexes,]\n",
    "    target_valid = target_train.loc[valid_indexes,]\n",
    "    probabilities_valid = model.predict_proba(features_valid)\n",
    "    probabilities_one_valid = probabilities_valid[:, 1]\n",
    "    auc_roc = roc_auc_score(target_valid,probabilities_one_valid)    \n",
    "    \n",
    "    auc_roc_scores.append(auc_roc)\n",
    "\n",
    "auc_roc_scores = pd.Series(auc_roc_scores)\n",
    "final_score = auc_roc_scores.mean()\n",
    "final_score"
   ]
  },
  {
   "cell_type": "markdown",
   "metadata": {},
   "source": [
    "Результат улучшился и довольно сильно, баланс классов имеет большое значение для логистической регрессии."
   ]
  },
  {
   "cell_type": "markdown",
   "metadata": {},
   "source": [
    "Попробуем наш алгоритм перебора и обучения с апсемплингом на случайном лесе. Здесь установим гиперпараметры дерева те что подобрали у дерева принятия решений и будем перебирать только количество деревьев."
   ]
  },
  {
   "cell_type": "code",
   "execution_count": 47,
   "metadata": {
    "ExecuteTime": {
     "end_time": "2024-03-17T12:38:02.592686Z",
     "start_time": "2024-03-17T12:38:02.586326Z"
    }
   },
   "outputs": [],
   "source": [
    "for est in range(10, 51, 10):\n",
    "    for depth in range(1, 6):\n",
    "        auc_roc_scores = RandomForestClassifier(random_state=12345, n_estimators=est, max_depth=depth)"
   ]
  },
  {
   "cell_type": "code",
   "execution_count": 48,
   "metadata": {
    "ExecuteTime": {
     "end_time": "2024-03-17T12:38:03.395575Z",
     "start_time": "2024-03-17T12:38:03.389052Z"
    }
   },
   "outputs": [
    {
     "data": {
      "text/plain": "RandomForestClassifier(max_depth=5, n_estimators=50, random_state=12345)",
      "text/html": "<style>#sk-container-id-3 {color: black;}#sk-container-id-3 pre{padding: 0;}#sk-container-id-3 div.sk-toggleable {background-color: white;}#sk-container-id-3 label.sk-toggleable__label {cursor: pointer;display: block;width: 100%;margin-bottom: 0;padding: 0.3em;box-sizing: border-box;text-align: center;}#sk-container-id-3 label.sk-toggleable__label-arrow:before {content: \"▸\";float: left;margin-right: 0.25em;color: #696969;}#sk-container-id-3 label.sk-toggleable__label-arrow:hover:before {color: black;}#sk-container-id-3 div.sk-estimator:hover label.sk-toggleable__label-arrow:before {color: black;}#sk-container-id-3 div.sk-toggleable__content {max-height: 0;max-width: 0;overflow: hidden;text-align: left;background-color: #f0f8ff;}#sk-container-id-3 div.sk-toggleable__content pre {margin: 0.2em;color: black;border-radius: 0.25em;background-color: #f0f8ff;}#sk-container-id-3 input.sk-toggleable__control:checked~div.sk-toggleable__content {max-height: 200px;max-width: 100%;overflow: auto;}#sk-container-id-3 input.sk-toggleable__control:checked~label.sk-toggleable__label-arrow:before {content: \"▾\";}#sk-container-id-3 div.sk-estimator input.sk-toggleable__control:checked~label.sk-toggleable__label {background-color: #d4ebff;}#sk-container-id-3 div.sk-label input.sk-toggleable__control:checked~label.sk-toggleable__label {background-color: #d4ebff;}#sk-container-id-3 input.sk-hidden--visually {border: 0;clip: rect(1px 1px 1px 1px);clip: rect(1px, 1px, 1px, 1px);height: 1px;margin: -1px;overflow: hidden;padding: 0;position: absolute;width: 1px;}#sk-container-id-3 div.sk-estimator {font-family: monospace;background-color: #f0f8ff;border: 1px dotted black;border-radius: 0.25em;box-sizing: border-box;margin-bottom: 0.5em;}#sk-container-id-3 div.sk-estimator:hover {background-color: #d4ebff;}#sk-container-id-3 div.sk-parallel-item::after {content: \"\";width: 100%;border-bottom: 1px solid gray;flex-grow: 1;}#sk-container-id-3 div.sk-label:hover label.sk-toggleable__label {background-color: #d4ebff;}#sk-container-id-3 div.sk-serial::before {content: \"\";position: absolute;border-left: 1px solid gray;box-sizing: border-box;top: 0;bottom: 0;left: 50%;z-index: 0;}#sk-container-id-3 div.sk-serial {display: flex;flex-direction: column;align-items: center;background-color: white;padding-right: 0.2em;padding-left: 0.2em;position: relative;}#sk-container-id-3 div.sk-item {position: relative;z-index: 1;}#sk-container-id-3 div.sk-parallel {display: flex;align-items: stretch;justify-content: center;background-color: white;position: relative;}#sk-container-id-3 div.sk-item::before, #sk-container-id-3 div.sk-parallel-item::before {content: \"\";position: absolute;border-left: 1px solid gray;box-sizing: border-box;top: 0;bottom: 0;left: 50%;z-index: -1;}#sk-container-id-3 div.sk-parallel-item {display: flex;flex-direction: column;z-index: 1;position: relative;background-color: white;}#sk-container-id-3 div.sk-parallel-item:first-child::after {align-self: flex-end;width: 50%;}#sk-container-id-3 div.sk-parallel-item:last-child::after {align-self: flex-start;width: 50%;}#sk-container-id-3 div.sk-parallel-item:only-child::after {width: 0;}#sk-container-id-3 div.sk-dashed-wrapped {border: 1px dashed gray;margin: 0 0.4em 0.5em 0.4em;box-sizing: border-box;padding-bottom: 0.4em;background-color: white;}#sk-container-id-3 div.sk-label label {font-family: monospace;font-weight: bold;display: inline-block;line-height: 1.2em;}#sk-container-id-3 div.sk-label-container {text-align: center;}#sk-container-id-3 div.sk-container {/* jupyter's `normalize.less` sets `[hidden] { display: none; }` but bootstrap.min.css set `[hidden] { display: none !important; }` so we also need the `!important` here to be able to override the default hidden behavior on the sphinx rendered scikit-learn.org. See: https://github.com/scikit-learn/scikit-learn/issues/21755 */display: inline-block !important;position: relative;}#sk-container-id-3 div.sk-text-repr-fallback {display: none;}</style><div id=\"sk-container-id-3\" class=\"sk-top-container\"><div class=\"sk-text-repr-fallback\"><pre>RandomForestClassifier(max_depth=5, n_estimators=50, random_state=12345)</pre><b>In a Jupyter environment, please rerun this cell to show the HTML representation or trust the notebook. <br />On GitHub, the HTML representation is unable to render, please try loading this page with nbviewer.org.</b></div><div class=\"sk-container\" hidden><div class=\"sk-item\"><div class=\"sk-estimator sk-toggleable\"><input class=\"sk-toggleable__control sk-hidden--visually\" id=\"sk-estimator-id-7\" type=\"checkbox\" checked><label for=\"sk-estimator-id-7\" class=\"sk-toggleable__label sk-toggleable__label-arrow\">RandomForestClassifier</label><div class=\"sk-toggleable__content\"><pre>RandomForestClassifier(max_depth=5, n_estimators=50, random_state=12345)</pre></div></div></div></div></div>"
     },
     "execution_count": 48,
     "metadata": {},
     "output_type": "execute_result"
    }
   ],
   "source": [
    "auc_roc_scores"
   ]
  },
  {
   "cell_type": "code",
   "execution_count": 49,
   "metadata": {
    "ExecuteTime": {
     "end_time": "2024-03-17T12:38:26.277933Z",
     "start_time": "2024-03-17T12:38:24.416403Z"
    }
   },
   "outputs": [
    {
     "name": "stdout",
     "output_type": "stream",
     "text": [
      "n_estimators = 2 : 0.5497\n",
      "n_estimators = 4 : 0.5691\n",
      "n_estimators = 6 : 0.5720\n",
      "n_estimators = 8 : 0.5829\n",
      "n_estimators = 10 : 0.5874\n",
      "n_estimators = 12 : 0.5872\n",
      "n_estimators = 14 : 0.5844\n",
      "n_estimators = 16 : 0.5846\n",
      "n_estimators = 18 : 0.5858\n",
      "CPU times: user 1.79 s, sys: 38.5 ms, total: 1.83 s\n",
      "Wall time: 1.85 s\n"
     ]
    }
   ],
   "source": [
    "%%time\n",
    "for estimators in range(2,20,2):\n",
    "    model = RandomForestClassifier(random_state=0, max_depth=6, \n",
    "                                               min_samples_split = 10,\n",
    "                                               n_estimators = estimators)\n",
    "                \n",
    "    sample_size = int(len(features_train)/4)\n",
    "    scores = []\n",
    "        \n",
    "    for i in range(0, len(features_train), sample_size):\n",
    "        valid_indexes = list(range(i, i + sample_size))\n",
    "        train_indexes = list(range(0,len(features_train)))\n",
    "                    \n",
    "        del train_indexes[i:(i + sample_size)]\n",
    "                    \n",
    "        features_train_1 = features_train.loc[train_indexes,]\n",
    "        features_valid = features_train.loc[valid_indexes,]\n",
    "        target_train_1 = target_train.loc[train_indexes,]\n",
    "        target_valid = target_train.loc[valid_indexes,]\n",
    "                    \n",
    "        features_train_1['Exited'] = target_train_1\n",
    "                \n",
    "        features_train_majority = features_train_1[features_train_1.Exited==0]\n",
    "        features_train_minority = features_train_1[features_train_1.Exited==1]\n",
    "                    \n",
    "        features_train_minority_upsampled = resample(features_train_minority, \n",
    "                                 replace=True,     \n",
    "                                 n_samples=int(features_train_majority['Age'].count()),    \n",
    "                                 random_state=123)\n",
    "            \n",
    "        features_train_upsampled = pd.concat([features_train_majority, features_train_minority_upsampled])\n",
    "                    \n",
    "                    \n",
    "        target_train_upsampled = features_train_upsampled['Exited']\n",
    "        features_train_upsampled = features_train_upsampled.drop('Exited', axis=1)\n",
    "                    \n",
    "        model.fit(features_train_upsampled, target_train_upsampled)\n",
    "        predictions = model.predict(features_valid)\n",
    "        score = f1_score(target_valid, predictions)\n",
    "        scores.append(score)\n",
    "                    \n",
    "        if i == (sample_size * 3):\n",
    "            scores = pd.Series(scores)\n",
    "            print('n_estimators =',estimators,': {:.4f}'.format(scores.mean()))"
   ]
  },
  {
   "cell_type": "code",
   "execution_count": 50,
   "metadata": {
    "ExecuteTime": {
     "end_time": "2024-03-17T12:38:32.923960Z",
     "start_time": "2024-03-17T12:38:32.877741Z"
    }
   },
   "outputs": [
    {
     "data": {
      "text/plain": "0.8757550750206693"
     },
     "execution_count": 50,
     "metadata": {},
     "output_type": "execute_result"
    }
   ],
   "source": [
    "auc_roc_scores = []\n",
    "\n",
    "sample_size = int(len(features_train)/4)\n",
    "\n",
    "for i in range(0, len(features_train), sample_size):\n",
    "    valid_indexes = list(range(i, i + sample_size))\n",
    "    train_indexes = list(range(0,len(features_train)))\n",
    "    del train_indexes[i:(i + sample_size)]\n",
    "    \n",
    "    features_valid = features_train.loc[valid_indexes,]\n",
    "    target_valid = target_train.loc[valid_indexes,]\n",
    "    probabilities_valid = model.predict_proba(features_valid)\n",
    "    probabilities_one_valid = probabilities_valid[:, 1]\n",
    "    auc_roc = roc_auc_score(target_valid,probabilities_one_valid)    \n",
    "    \n",
    "    auc_roc_scores.append(auc_roc)\n",
    "\n",
    "auc_roc_scores = pd.Series(auc_roc_scores)\n",
    "final_score = auc_roc_scores.mean()\n",
    "final_score"
   ]
  },
  {
   "cell_type": "markdown",
   "metadata": {},
   "source": [
    "Отличный результат, в качестве бонуса проверим, сможет ли class_weight = 'balanced' выдать результат лучше на валидационной выборке."
   ]
  },
  {
   "cell_type": "code",
   "execution_count": 51,
   "metadata": {
    "ExecuteTime": {
     "end_time": "2024-03-17T12:38:48.916248Z",
     "start_time": "2024-03-17T12:38:35.373104Z"
    }
   },
   "outputs": [
    {
     "name": "stdout",
     "output_type": "stream",
     "text": [
      "CPU times: user 12.8 s, sys: 156 ms, total: 13 s\n",
      "Wall time: 13.5 s\n"
     ]
    },
    {
     "data": {
      "text/plain": "0.6039960568930769"
     },
     "execution_count": 51,
     "metadata": {},
     "output_type": "execute_result"
    }
   ],
   "source": [
    "%%time\n",
    "# <сетка гиперпараметров, по которой будет происходит случайный поиск>\n",
    "param_grid = {\n",
    "    'n_estimators': list(np.arange(2, 101, 2).astype(int)),\n",
    "    'max_depth': [None] + list(np.arange(2, 21,2).astype(int)),\n",
    "    'max_features': ['auto', 'sqrt', None],\n",
    "    'max_leaf_nodes': [None] + list(np.arange(10, 101, 10).astype(int)),\n",
    "    'min_samples_split': [2, 5, 10],\n",
    "    'bootstrap': [True, False]\n",
    "}\n",
    "\n",
    "# <случайный лес к которому будем подбирать параметры>\n",
    "estimator = RandomForestClassifier(random_state = 12345, class_weight = 'balanced')\n",
    "\n",
    "# <модель>\n",
    "model_rf = RandomizedSearchCV(estimator, param_grid, cv=4, scoring = 'f1')\n",
    "\n",
    "# <обучаем модель> \n",
    "model_rf.fit(features_train, target_train)\n",
    "\n",
    "# <среднее значение F1-меры по разным выборкам>\n",
    "model_rf.best_score_"
   ]
  },
  {
   "cell_type": "markdown",
   "metadata": {},
   "source": [
    "**Вывод:**\n",
    "Мы обучили модели дерева принятия решений, случайного леса и логистической регресии, при обучении применяли кросс-валидацию, а также боролись с дисбалансом классов с помощью апсемплинга. Мы смогли добиться на валидационных выборках нужного нам результата, осталось проверить нашу сильнейшую модель на тестовой выборке."
   ]
  },
  {
   "cell_type": "markdown",
   "metadata": {},
   "source": [
    "# Тестирование модели"
   ]
  },
  {
   "cell_type": "markdown",
   "metadata": {},
   "source": [
    "Проведем тестирование модели случайного леса (гиперпараметры для которого подбирались с помощью цикла) на тестовой выборке."
   ]
  },
  {
   "cell_type": "code",
   "execution_count": 52,
   "metadata": {
    "ExecuteTime": {
     "end_time": "2024-03-17T12:39:37.132675Z",
     "start_time": "2024-03-17T12:39:37.109511Z"
    }
   },
   "outputs": [
    {
     "data": {
      "text/plain": "0.6398390342052314"
     },
     "execution_count": 52,
     "metadata": {},
     "output_type": "execute_result"
    }
   ],
   "source": [
    "predictions = model.predict(features_test)\n",
    "\n",
    "f1_score(target_test, predictions)"
   ]
  },
  {
   "cell_type": "markdown",
   "metadata": {},
   "source": [
    "Проведем тестирование модели случайного леса (гиперпараметры для которого подбирались случайным поиском) на тестовой выборке.\n"
   ]
  },
  {
   "cell_type": "code",
   "execution_count": 53,
   "metadata": {
    "ExecuteTime": {
     "end_time": "2024-03-17T12:39:40.550026Z",
     "start_time": "2024-03-17T12:39:40.529243Z"
    }
   },
   "outputs": [
    {
     "data": {
      "text/plain": "0.6353421859039836"
     },
     "execution_count": 53,
     "metadata": {},
     "output_type": "execute_result"
    }
   ],
   "source": [
    "predictions = model_rf.predict(features_test)\n",
    "\n",
    "f1_score(target_test, predictions)"
   ]
  },
  {
   "cell_type": "markdown",
   "metadata": {},
   "source": [
    "Случайный поиск по гиперпараметрам оказался сильнее. Подсчитаем AUC-ROC для обоих моделей. Сначала для первой:"
   ]
  },
  {
   "cell_type": "code",
   "execution_count": 54,
   "metadata": {
    "ExecuteTime": {
     "end_time": "2024-03-17T12:39:49.602722Z",
     "start_time": "2024-03-17T12:39:49.566019Z"
    }
   },
   "outputs": [
    {
     "data": {
      "text/plain": "0.8663006144377233"
     },
     "execution_count": 54,
     "metadata": {},
     "output_type": "execute_result"
    }
   ],
   "source": [
    "probabilities_valid = model.predict_proba(features_test)\n",
    "probabilities_one_valid = probabilities_valid[:, 1]\n",
    "auc_roc = roc_auc_score(target_test,probabilities_one_valid)    \n",
    "    \n",
    "auc_roc"
   ]
  },
  {
   "cell_type": "markdown",
   "metadata": {},
   "source": [
    "Затем для второй:"
   ]
  },
  {
   "cell_type": "code",
   "execution_count": 55,
   "metadata": {
    "ExecuteTime": {
     "end_time": "2024-03-17T12:39:52.612564Z",
     "start_time": "2024-03-17T12:39:52.587903Z"
    }
   },
   "outputs": [
    {
     "data": {
      "text/plain": "0.8674395649060329"
     },
     "execution_count": 55,
     "metadata": {},
     "output_type": "execute_result"
    }
   ],
   "source": [
    "probabilities_valid = model_rf.predict_proba(features_test)\n",
    "probabilities_one_valid = probabilities_valid[:, 1]\n",
    "auc_roc = roc_auc_score(target_test,probabilities_one_valid)    \n",
    "    \n",
    "auc_roc"
   ]
  },
  {
   "cell_type": "markdown",
   "metadata": {},
   "source": [
    "Ожидаемо вторая модель чуть-чуть сильнее."
   ]
  },
  {
   "cell_type": "markdown",
   "metadata": {},
   "source": [
    "# Вывод\n",
    "Мы проверили наши сильнейшие модели на тестовой выборке. И они смогли дать высокое значение F1-меры, это хорошо."
   ]
  },
  {
   "cell_type": "code",
   "execution_count": 56,
   "metadata": {
    "ExecuteTime": {
     "end_time": "2024-03-17T12:40:51.012781Z",
     "start_time": "2024-03-17T12:40:50.998931Z"
    }
   },
   "outputs": [],
   "source": [
    "rezult1 = {'Дерево Решения':np.array([0.586,0.582]),'Случайный лес':np.array([0.571,0.612]),'Логистическая регрессия':np.array([0.318,0.478])}\n",
    "rezult_df = pd.DataFrame(rezult1,index=['F1: исключая дисбаланс','F1: с учетом дисбаланса'])"
   ]
  },
  {
   "cell_type": "code",
   "execution_count": 57,
   "metadata": {
    "ExecuteTime": {
     "end_time": "2024-03-17T12:40:52.234484Z",
     "start_time": "2024-03-17T12:40:52.226394Z"
    }
   },
   "outputs": [
    {
     "data": {
      "text/plain": "                         Дерево Решения  Случайный лес  \\\nF1: исключая дисбаланс            0.586          0.571   \nF1: с учетом дисбаланса           0.582          0.612   \n\n                         Логистическая регрессия  \nF1: исключая дисбаланс                     0.318  \nF1: с учетом дисбаланса                    0.478  ",
      "text/html": "<div>\n<style scoped>\n    .dataframe tbody tr th:only-of-type {\n        vertical-align: middle;\n    }\n\n    .dataframe tbody tr th {\n        vertical-align: top;\n    }\n\n    .dataframe thead th {\n        text-align: right;\n    }\n</style>\n<table border=\"1\" class=\"dataframe\">\n  <thead>\n    <tr style=\"text-align: right;\">\n      <th></th>\n      <th>Дерево Решения</th>\n      <th>Случайный лес</th>\n      <th>Логистическая регрессия</th>\n    </tr>\n  </thead>\n  <tbody>\n    <tr>\n      <th>F1: исключая дисбаланс</th>\n      <td>0.586</td>\n      <td>0.571</td>\n      <td>0.318</td>\n    </tr>\n    <tr>\n      <th>F1: с учетом дисбаланса</th>\n      <td>0.582</td>\n      <td>0.612</td>\n      <td>0.478</td>\n    </tr>\n  </tbody>\n</table>\n</div>"
     },
     "execution_count": 57,
     "metadata": {},
     "output_type": "execute_result"
    }
   ],
   "source": [
    "rezult_df"
   ]
  },
  {
   "cell_type": "markdown",
   "metadata": {},
   "source": [
    "Рассматривая данные с учетом дисбаланса + переведенные категориальные + стандартизированные данные и без учета дисбаланса тремя моделями можно сделать вывод, что самая лучшая модель оказалась Случайный лес. При лучшем значении max_depth=9,n_estimators=50, мы имеем F1 меру =0,612 на тестовой(валидной) выборке. Хуже всего себя показала модель Логистическая регрессия"
   ]
  },
  {
   "cell_type": "code",
   "outputs": [],
   "source": [
    "num = 8\n",
    "\n",
    "if num % 2 != 0:\n",
    "    result = 'Это простое число'\n",
    "else:\n",
    "    result = 'Это не простое число'"
   ],
   "metadata": {
    "collapsed": false,
    "ExecuteTime": {
     "end_time": "2024-03-20T17:53:10.389594Z",
     "start_time": "2024-03-20T17:53:10.384156Z"
    }
   },
   "execution_count": 5
  },
  {
   "cell_type": "code",
   "outputs": [
    {
     "data": {
      "text/plain": "'Это не простое число'"
     },
     "execution_count": 6,
     "metadata": {},
     "output_type": "execute_result"
    }
   ],
   "source": [
    "result"
   ],
   "metadata": {
    "collapsed": false,
    "ExecuteTime": {
     "end_time": "2024-03-20T17:53:10.668347Z",
     "start_time": "2024-03-20T17:53:10.664153Z"
    }
   },
   "execution_count": 6
  },
  {
   "cell_type": "code",
   "outputs": [],
   "source": [
    "while num % 2 != 0:\n",
    "    result = 'Это простое число'\n",
    "else:\n",
    "    result = 'Это не простое число'"
   ],
   "metadata": {
    "collapsed": false
   }
  }
 ],
 "metadata": {
  "ExecuteTimeLog": [
   {
    "duration": 1660,
    "start_time": "2023-03-01T12:22:20.002Z"
   },
   {
    "duration": 139,
    "start_time": "2023-03-01T12:24:01.823Z"
   },
   {
    "duration": 183,
    "start_time": "2023-03-01T12:24:11.689Z"
   },
   {
    "duration": 28,
    "start_time": "2023-03-01T12:24:12.657Z"
   },
   {
    "duration": 22,
    "start_time": "2023-03-01T12:24:20.759Z"
   },
   {
    "duration": 4,
    "start_time": "2023-03-01T12:26:37.873Z"
   },
   {
    "duration": 4,
    "start_time": "2023-03-01T12:26:45.139Z"
   },
   {
    "duration": 12,
    "start_time": "2023-03-01T12:26:51.744Z"
   },
   {
    "duration": 55,
    "start_time": "2023-03-02T12:12:30.007Z"
   },
   {
    "duration": 1766,
    "start_time": "2023-03-02T12:12:34.279Z"
   },
   {
    "duration": 389,
    "start_time": "2023-03-02T12:12:36.047Z"
   },
   {
    "duration": 28,
    "start_time": "2023-03-02T12:12:36.437Z"
   },
   {
    "duration": 4,
    "start_time": "2023-03-02T12:12:36.467Z"
   },
   {
    "duration": 7,
    "start_time": "2023-03-02T12:12:36.472Z"
   },
   {
    "duration": 13,
    "start_time": "2023-03-02T12:12:36.480Z"
   },
   {
    "duration": 49,
    "start_time": "2023-03-02T14:12:10.896Z"
   },
   {
    "duration": 1539,
    "start_time": "2023-03-02T14:12:20.328Z"
   },
   {
    "duration": 82,
    "start_time": "2023-03-02T14:12:21.869Z"
   },
   {
    "duration": 29,
    "start_time": "2023-03-02T14:12:21.953Z"
   },
   {
    "duration": 61,
    "start_time": "2023-03-02T14:12:21.985Z"
   },
   {
    "duration": 47,
    "start_time": "2023-03-02T14:12:22.048Z"
   },
   {
    "duration": 48,
    "start_time": "2023-03-02T14:12:22.097Z"
   },
   {
    "duration": 82,
    "start_time": "2023-03-02T14:12:23.799Z"
   },
   {
    "duration": 6,
    "start_time": "2023-03-02T14:13:00.751Z"
   },
   {
    "duration": 20,
    "start_time": "2023-03-02T14:14:17.953Z"
   },
   {
    "duration": 13,
    "start_time": "2023-03-02T14:14:31.698Z"
   },
   {
    "duration": 1622,
    "start_time": "2023-03-11T19:44:38.328Z"
   },
   {
    "duration": 414,
    "start_time": "2023-03-11T19:44:40.980Z"
   },
   {
    "duration": 27,
    "start_time": "2023-03-11T19:44:42.284Z"
   },
   {
    "duration": 4,
    "start_time": "2023-03-11T19:44:43.684Z"
   },
   {
    "duration": 4,
    "start_time": "2023-03-11T19:44:44.313Z"
   },
   {
    "duration": 14,
    "start_time": "2023-03-11T19:44:45.945Z"
   },
   {
    "duration": 5,
    "start_time": "2023-03-11T19:44:47.327Z"
   },
   {
    "duration": 11,
    "start_time": "2023-03-11T19:44:47.981Z"
   },
   {
    "duration": 11,
    "start_time": "2023-03-11T19:46:19.293Z"
   },
   {
    "duration": 28,
    "start_time": "2023-03-11T19:46:33.549Z"
   },
   {
    "duration": 25,
    "start_time": "2023-03-11T19:47:08.616Z"
   },
   {
    "duration": 9,
    "start_time": "2023-03-11T19:47:21.083Z"
   },
   {
    "duration": 5,
    "start_time": "2023-03-11T19:48:33.887Z"
   },
   {
    "duration": 4,
    "start_time": "2023-03-11T19:48:47.065Z"
   },
   {
    "duration": 26,
    "start_time": "2023-03-11T19:48:55.784Z"
   },
   {
    "duration": 163,
    "start_time": "2023-03-11T19:56:22.235Z"
   },
   {
    "duration": 65461,
    "start_time": "2023-03-11T19:58:19.256Z"
   },
   {
    "duration": 4,
    "start_time": "2023-03-11T19:59:29.117Z"
   },
   {
    "duration": 28,
    "start_time": "2023-03-11T20:00:56.680Z"
   },
   {
    "duration": 4,
    "start_time": "2023-03-11T20:01:17.341Z"
   },
   {
    "duration": 16560,
    "start_time": "2023-03-11T20:03:04.080Z"
   },
   {
    "duration": 4,
    "start_time": "2023-03-11T20:03:26.320Z"
   },
   {
    "duration": 167,
    "start_time": "2023-03-11T20:03:39.802Z"
   },
   {
    "duration": 4,
    "start_time": "2023-03-11T20:04:50.281Z"
   },
   {
    "duration": 3,
    "start_time": "2023-03-11T20:05:12.169Z"
   },
   {
    "duration": 4896,
    "start_time": "2023-03-11T20:05:20.158Z"
   },
   {
    "duration": 114,
    "start_time": "2023-03-11T20:05:42.444Z"
   },
   {
    "duration": 3,
    "start_time": "2023-03-11T20:09:31.008Z"
   },
   {
    "duration": 1317,
    "start_time": "2023-03-11T20:09:52.031Z"
   },
   {
    "duration": 32,
    "start_time": "2023-03-11T20:10:13.408Z"
   },
   {
    "duration": 2200,
    "start_time": "2023-03-11T20:10:33.177Z"
   },
   {
    "duration": 152,
    "start_time": "2023-03-11T20:10:42.708Z"
   },
   {
    "duration": 3057,
    "start_time": "2023-03-11T20:11:10.236Z"
   },
   {
    "duration": 67,
    "start_time": "2023-03-11T20:11:21.629Z"
   },
   {
    "duration": 30074,
    "start_time": "2023-03-11T20:11:35.975Z"
   },
   {
    "duration": 17,
    "start_time": "2023-03-11T20:12:34.628Z"
   },
   {
    "duration": 41,
    "start_time": "2023-03-11T20:12:40.475Z"
   },
   {
    "duration": 36,
    "start_time": "2023-03-11T20:12:59.398Z"
   },
   {
    "duration": 16,
    "start_time": "2023-03-11T20:13:11.818Z"
   },
   {
    "duration": 54,
    "start_time": "2023-03-11T20:13:24.098Z"
   },
   {
    "duration": 51,
    "start_time": "2023-03-13T11:53:57.237Z"
   },
   {
    "duration": 1687,
    "start_time": "2023-03-13T11:54:04.850Z"
   },
   {
    "duration": 92,
    "start_time": "2023-03-13T11:54:06.539Z"
   },
   {
    "duration": 34,
    "start_time": "2023-03-13T11:54:06.633Z"
   },
   {
    "duration": 7,
    "start_time": "2023-03-13T11:54:06.669Z"
   },
   {
    "duration": 24,
    "start_time": "2023-03-13T11:54:56.816Z"
   },
   {
    "duration": 24,
    "start_time": "2023-03-13T11:57:32.709Z"
   },
   {
    "duration": 28,
    "start_time": "2023-03-13T11:57:40.793Z"
   },
   {
    "duration": 22,
    "start_time": "2023-03-13T11:58:06.528Z"
   },
   {
    "duration": 7,
    "start_time": "2023-03-13T11:58:29.163Z"
   },
   {
    "duration": 25,
    "start_time": "2023-03-13T11:58:31.342Z"
   },
   {
    "duration": 4,
    "start_time": "2023-03-13T11:59:07.329Z"
   },
   {
    "duration": 22,
    "start_time": "2023-03-13T12:00:22.074Z"
   },
   {
    "duration": 32,
    "start_time": "2023-03-13T12:00:41.574Z"
   },
   {
    "duration": 7,
    "start_time": "2023-03-13T12:01:04.511Z"
   },
   {
    "duration": 24,
    "start_time": "2023-03-13T12:01:06.620Z"
   },
   {
    "duration": 7,
    "start_time": "2023-03-13T12:01:20.550Z"
   },
   {
    "duration": 29,
    "start_time": "2023-03-13T12:01:21.261Z"
   },
   {
    "duration": 128,
    "start_time": "2023-03-13T12:01:29.473Z"
   },
   {
    "duration": 31,
    "start_time": "2023-03-13T12:01:30.081Z"
   },
   {
    "duration": 6,
    "start_time": "2023-03-13T12:01:46.562Z"
   },
   {
    "duration": 23,
    "start_time": "2023-03-13T12:01:47.218Z"
   },
   {
    "duration": 23,
    "start_time": "2023-03-13T12:02:30.996Z"
   },
   {
    "duration": 4,
    "start_time": "2023-03-13T12:02:46.683Z"
   },
   {
    "duration": 20,
    "start_time": "2023-03-13T12:02:47.036Z"
   },
   {
    "duration": 4,
    "start_time": "2023-03-13T12:03:46.531Z"
   },
   {
    "duration": 22,
    "start_time": "2023-03-13T12:03:53.527Z"
   },
   {
    "duration": 74,
    "start_time": "2023-03-13T12:05:37.567Z"
   },
   {
    "duration": 9,
    "start_time": "2023-03-13T12:08:00.526Z"
   },
   {
    "duration": 20,
    "start_time": "2023-03-13T12:08:09.276Z"
   },
   {
    "duration": 12,
    "start_time": "2023-03-13T12:08:09.899Z"
   },
   {
    "duration": 21,
    "start_time": "2023-03-13T12:08:10.263Z"
   },
   {
    "duration": 9,
    "start_time": "2023-03-13T12:08:10.418Z"
   },
   {
    "duration": 3,
    "start_time": "2023-03-13T12:08:10.699Z"
   },
   {
    "duration": 28,
    "start_time": "2023-03-13T12:08:10.822Z"
   },
   {
    "duration": 131,
    "start_time": "2023-03-13T12:08:14.047Z"
   },
   {
    "duration": 15,
    "start_time": "2023-03-13T12:14:22.441Z"
   },
   {
    "duration": 119,
    "start_time": "2023-03-13T12:15:49.429Z"
   },
   {
    "duration": 129,
    "start_time": "2023-03-13T12:16:20.371Z"
   },
   {
    "duration": 123,
    "start_time": "2023-03-13T12:16:29.193Z"
   },
   {
    "duration": 207,
    "start_time": "2023-03-13T12:17:11.721Z"
   },
   {
    "duration": 134,
    "start_time": "2023-03-13T12:17:47.201Z"
   },
   {
    "duration": 56,
    "start_time": "2023-03-13T19:45:05.293Z"
   },
   {
    "duration": 1621,
    "start_time": "2023-03-13T19:45:12.603Z"
   },
   {
    "duration": 178,
    "start_time": "2023-03-13T19:45:14.226Z"
   },
   {
    "duration": 29,
    "start_time": "2023-03-13T19:45:14.405Z"
   },
   {
    "duration": 7,
    "start_time": "2023-03-13T19:45:14.437Z"
   },
   {
    "duration": 5,
    "start_time": "2023-03-13T19:45:14.446Z"
   },
   {
    "duration": 24,
    "start_time": "2023-03-13T19:45:14.452Z"
   },
   {
    "duration": 5,
    "start_time": "2023-03-13T19:45:14.478Z"
   },
   {
    "duration": 12,
    "start_time": "2023-03-13T19:45:15.396Z"
   },
   {
    "duration": 76,
    "start_time": "2023-03-13T19:45:26.672Z"
   },
   {
    "duration": 16,
    "start_time": "2023-03-13T19:47:05.136Z"
   },
   {
    "duration": 16,
    "start_time": "2023-03-13T19:47:40.128Z"
   },
   {
    "duration": 13,
    "start_time": "2023-03-13T19:48:11.936Z"
   },
   {
    "duration": 10,
    "start_time": "2023-03-13T19:49:50.507Z"
   },
   {
    "duration": 3,
    "start_time": "2023-03-13T19:50:06.338Z"
   },
   {
    "duration": 61,
    "start_time": "2023-03-13T19:50:06.343Z"
   },
   {
    "duration": 24,
    "start_time": "2023-03-13T19:50:06.405Z"
   },
   {
    "duration": 8,
    "start_time": "2023-03-13T19:50:06.431Z"
   },
   {
    "duration": 4,
    "start_time": "2023-03-13T19:50:06.442Z"
   },
   {
    "duration": 40,
    "start_time": "2023-03-13T19:50:06.447Z"
   },
   {
    "duration": 15,
    "start_time": "2023-03-13T19:50:06.489Z"
   },
   {
    "duration": 22,
    "start_time": "2023-03-13T19:50:06.506Z"
   },
   {
    "duration": 43,
    "start_time": "2023-03-13T19:50:06.529Z"
   },
   {
    "duration": 7,
    "start_time": "2023-03-13T19:50:06.579Z"
   },
   {
    "duration": 29,
    "start_time": "2023-03-13T19:50:06.588Z"
   },
   {
    "duration": 169,
    "start_time": "2023-03-13T19:50:06.619Z"
   },
   {
    "duration": 70791,
    "start_time": "2023-03-13T19:50:06.792Z"
   },
   {
    "duration": 4,
    "start_time": "2023-03-13T19:51:17.585Z"
   },
   {
    "duration": 32,
    "start_time": "2023-03-13T19:51:17.590Z"
   },
   {
    "duration": 3,
    "start_time": "2023-03-13T19:51:17.624Z"
   },
   {
    "duration": 18295,
    "start_time": "2023-03-13T19:51:17.629Z"
   },
   {
    "duration": 4,
    "start_time": "2023-03-13T19:51:35.926Z"
   },
   {
    "duration": 85,
    "start_time": "2023-03-13T19:51:35.932Z"
   },
   {
    "duration": 4,
    "start_time": "2023-03-13T19:51:36.019Z"
   },
   {
    "duration": 9,
    "start_time": "2023-03-13T19:51:36.025Z"
   },
   {
    "duration": 3539,
    "start_time": "2023-03-13T19:51:36.036Z"
   },
   {
    "duration": 298,
    "start_time": "2023-03-13T19:51:39.578Z"
   },
   {
    "duration": 17,
    "start_time": "2023-03-13T19:51:39.969Z"
   },
   {
    "duration": 1315,
    "start_time": "2023-03-13T19:51:39.988Z"
   },
   {
    "duration": 28,
    "start_time": "2023-03-13T19:51:41.305Z"
   },
   {
    "duration": 2621,
    "start_time": "2023-03-13T19:51:41.335Z"
   },
   {
    "duration": 336,
    "start_time": "2023-03-13T19:51:43.959Z"
   },
   {
    "duration": 3566,
    "start_time": "2023-03-13T19:51:44.359Z"
   },
   {
    "duration": 67,
    "start_time": "2023-03-13T19:51:47.927Z"
   },
   {
    "duration": 14307,
    "start_time": "2023-03-13T19:51:47.996Z"
   },
   {
    "duration": 16,
    "start_time": "2023-03-13T19:52:02.304Z"
   },
   {
    "duration": 49,
    "start_time": "2023-03-13T19:52:02.322Z"
   },
   {
    "duration": 22,
    "start_time": "2023-03-13T19:52:02.378Z"
   },
   {
    "duration": 38,
    "start_time": "2023-03-13T19:52:02.402Z"
   },
   {
    "duration": 153,
    "start_time": "2023-03-13T19:52:02.444Z"
   },
   {
    "duration": 4,
    "start_time": "2023-03-13T19:56:17.013Z"
   },
   {
    "duration": 5,
    "start_time": "2023-03-13T19:56:34.917Z"
   },
   {
    "duration": 9,
    "start_time": "2023-03-13T19:56:35.395Z"
   },
   {
    "duration": 20,
    "start_time": "2023-03-13T20:01:11.699Z"
   },
   {
    "duration": 17,
    "start_time": "2023-03-13T20:01:26.731Z"
   },
   {
    "duration": 72,
    "start_time": "2023-03-13T20:04:29.503Z"
   },
   {
    "duration": 68,
    "start_time": "2023-03-13T20:04:44.707Z"
   },
   {
    "duration": 166,
    "start_time": "2023-03-13T20:05:27.896Z"
   },
   {
    "duration": 64,
    "start_time": "2023-03-13T20:06:24.314Z"
   },
   {
    "duration": 73075,
    "start_time": "2023-03-13T20:06:43.153Z"
   },
   {
    "duration": 5,
    "start_time": "2023-03-13T20:07:56.231Z"
   },
   {
    "duration": 55,
    "start_time": "2023-03-15T10:03:01.327Z"
   },
   {
    "duration": 1901,
    "start_time": "2023-03-15T10:03:05.622Z"
   },
   {
    "duration": 95,
    "start_time": "2023-03-15T10:03:07.526Z"
   },
   {
    "duration": 34,
    "start_time": "2023-03-15T10:03:07.623Z"
   },
   {
    "duration": 17,
    "start_time": "2023-03-15T10:03:07.659Z"
   },
   {
    "duration": 35,
    "start_time": "2023-03-15T10:03:07.678Z"
   },
   {
    "duration": 35,
    "start_time": "2023-03-15T10:03:07.715Z"
   },
   {
    "duration": 15,
    "start_time": "2023-03-15T10:03:09.157Z"
   },
   {
    "duration": 6,
    "start_time": "2023-03-15T10:05:19.140Z"
   },
   {
    "duration": 42,
    "start_time": "2023-03-15T10:05:19.223Z"
   },
   {
    "duration": 28,
    "start_time": "2023-03-15T10:05:19.267Z"
   },
   {
    "duration": 9,
    "start_time": "2023-03-15T10:05:19.297Z"
   },
   {
    "duration": 20,
    "start_time": "2023-03-15T10:05:19.308Z"
   },
   {
    "duration": 27,
    "start_time": "2023-03-15T10:05:19.331Z"
   },
   {
    "duration": 29,
    "start_time": "2023-03-15T10:05:19.360Z"
   },
   {
    "duration": 24,
    "start_time": "2023-03-15T10:05:19.391Z"
   },
   {
    "duration": 10,
    "start_time": "2023-03-15T10:05:19.417Z"
   },
   {
    "duration": 5,
    "start_time": "2023-03-15T10:05:19.429Z"
   },
   {
    "duration": 132,
    "start_time": "2023-03-15T10:05:19.435Z"
   },
   {
    "duration": 0,
    "start_time": "2023-03-15T10:05:19.570Z"
   },
   {
    "duration": 0,
    "start_time": "2023-03-15T10:05:19.571Z"
   },
   {
    "duration": 0,
    "start_time": "2023-03-15T10:05:19.572Z"
   },
   {
    "duration": 0,
    "start_time": "2023-03-15T10:05:19.580Z"
   },
   {
    "duration": 0,
    "start_time": "2023-03-15T10:05:19.582Z"
   },
   {
    "duration": 0,
    "start_time": "2023-03-15T10:05:19.585Z"
   },
   {
    "duration": 0,
    "start_time": "2023-03-15T10:05:19.587Z"
   },
   {
    "duration": 1,
    "start_time": "2023-03-15T10:05:19.588Z"
   },
   {
    "duration": 0,
    "start_time": "2023-03-15T10:05:19.590Z"
   },
   {
    "duration": 0,
    "start_time": "2023-03-15T10:05:19.591Z"
   },
   {
    "duration": 0,
    "start_time": "2023-03-15T10:05:19.593Z"
   },
   {
    "duration": 0,
    "start_time": "2023-03-15T10:05:19.594Z"
   },
   {
    "duration": 0,
    "start_time": "2023-03-15T10:05:19.595Z"
   },
   {
    "duration": 0,
    "start_time": "2023-03-15T10:05:19.596Z"
   },
   {
    "duration": 0,
    "start_time": "2023-03-15T10:05:19.597Z"
   },
   {
    "duration": 0,
    "start_time": "2023-03-15T10:05:19.599Z"
   },
   {
    "duration": 0,
    "start_time": "2023-03-15T10:05:19.600Z"
   },
   {
    "duration": 0,
    "start_time": "2023-03-15T10:05:19.601Z"
   },
   {
    "duration": 0,
    "start_time": "2023-03-15T10:05:19.602Z"
   },
   {
    "duration": 0,
    "start_time": "2023-03-15T10:05:19.603Z"
   },
   {
    "duration": 0,
    "start_time": "2023-03-15T10:05:19.604Z"
   },
   {
    "duration": 0,
    "start_time": "2023-03-15T10:05:19.606Z"
   },
   {
    "duration": 0,
    "start_time": "2023-03-15T10:05:19.607Z"
   },
   {
    "duration": 0,
    "start_time": "2023-03-15T10:05:19.608Z"
   },
   {
    "duration": 0,
    "start_time": "2023-03-15T10:05:19.609Z"
   },
   {
    "duration": 187,
    "start_time": "2023-03-15T10:07:30.565Z"
   },
   {
    "duration": 13,
    "start_time": "2023-03-15T10:07:35.484Z"
   },
   {
    "duration": 93,
    "start_time": "2023-03-15T10:07:35.500Z"
   },
   {
    "duration": 41,
    "start_time": "2023-03-15T10:07:35.596Z"
   },
   {
    "duration": 6,
    "start_time": "2023-03-15T10:07:35.639Z"
   },
   {
    "duration": 25,
    "start_time": "2023-03-15T10:07:35.647Z"
   },
   {
    "duration": 49,
    "start_time": "2023-03-15T10:07:35.673Z"
   },
   {
    "duration": 17,
    "start_time": "2023-03-15T10:07:35.724Z"
   },
   {
    "duration": 32,
    "start_time": "2023-03-15T10:07:35.743Z"
   },
   {
    "duration": 9,
    "start_time": "2023-03-15T10:07:35.781Z"
   },
   {
    "duration": 20,
    "start_time": "2023-03-15T10:07:35.793Z"
   },
   {
    "duration": 184,
    "start_time": "2023-03-15T10:07:35.815Z"
   },
   {
    "duration": 67407,
    "start_time": "2023-03-15T10:07:36.002Z"
   },
   {
    "duration": 7,
    "start_time": "2023-03-15T10:08:43.412Z"
   },
   {
    "duration": 45,
    "start_time": "2023-03-15T10:08:43.421Z"
   },
   {
    "duration": 4,
    "start_time": "2023-03-15T10:08:43.468Z"
   },
   {
    "duration": 16699,
    "start_time": "2023-03-15T10:08:43.480Z"
   },
   {
    "duration": 10,
    "start_time": "2023-03-15T10:09:00.181Z"
   },
   {
    "duration": 142,
    "start_time": "2023-03-15T10:09:00.193Z"
   },
   {
    "duration": 4,
    "start_time": "2023-03-15T10:09:00.337Z"
   },
   {
    "duration": 14352,
    "start_time": "2023-03-15T10:09:00.342Z"
   },
   {
    "duration": 288,
    "start_time": "2023-03-15T10:09:14.696Z"
   },
   {
    "duration": 1426,
    "start_time": "2023-03-15T10:09:14.990Z"
   },
   {
    "duration": 35,
    "start_time": "2023-03-15T10:09:16.419Z"
   },
   {
    "duration": 5843,
    "start_time": "2023-03-15T10:09:16.456Z"
   },
   {
    "duration": 406,
    "start_time": "2023-03-15T10:09:22.382Z"
   },
   {
    "duration": 92,
    "start_time": "2023-03-15T10:09:22.790Z"
   },
   {
    "duration": 3344,
    "start_time": "2023-03-15T10:09:22.885Z"
   },
   {
    "duration": 79,
    "start_time": "2023-03-15T10:09:26.234Z"
   },
   {
    "duration": 16435,
    "start_time": "2023-03-15T10:09:26.316Z"
   },
   {
    "duration": 30,
    "start_time": "2023-03-15T10:09:42.753Z"
   },
   {
    "duration": 47,
    "start_time": "2023-03-15T10:09:42.785Z"
   },
   {
    "duration": 36,
    "start_time": "2023-03-15T10:09:42.834Z"
   },
   {
    "duration": 46,
    "start_time": "2023-03-15T10:09:42.872Z"
   },
   {
    "duration": 4,
    "start_time": "2023-03-15T10:09:42.920Z"
   },
   {
    "duration": 25,
    "start_time": "2023-03-15T10:09:42.926Z"
   },
   {
    "duration": 6,
    "start_time": "2023-03-15T10:11:40.426Z"
   },
   {
    "duration": 4,
    "start_time": "2023-03-15T10:12:57.414Z"
   },
   {
    "duration": 4,
    "start_time": "2023-03-15T10:13:04.853Z"
   },
   {
    "duration": 5,
    "start_time": "2023-03-15T10:14:34.714Z"
   },
   {
    "duration": 5,
    "start_time": "2023-03-15T10:14:40.710Z"
   },
   {
    "duration": 12,
    "start_time": "2023-03-15T10:14:41.684Z"
   },
   {
    "duration": 5,
    "start_time": "2023-03-15T10:14:53.644Z"
   },
   {
    "duration": 9,
    "start_time": "2023-03-15T10:14:54.248Z"
   },
   {
    "duration": 6,
    "start_time": "2023-03-15T10:15:00.212Z"
   },
   {
    "duration": 10,
    "start_time": "2023-03-15T10:15:00.448Z"
   },
   {
    "duration": 56,
    "start_time": "2023-03-15T13:40:43.499Z"
   },
   {
    "duration": 6,
    "start_time": "2023-03-15T13:40:46.203Z"
   },
   {
    "duration": 1518,
    "start_time": "2023-03-15T13:40:54.351Z"
   },
   {
    "duration": 173,
    "start_time": "2023-03-15T13:40:55.871Z"
   },
   {
    "duration": 32,
    "start_time": "2023-03-15T13:40:56.045Z"
   },
   {
    "duration": 8,
    "start_time": "2023-03-15T13:40:56.079Z"
   },
   {
    "duration": 4,
    "start_time": "2023-03-15T13:40:56.090Z"
   },
   {
    "duration": 39,
    "start_time": "2023-03-15T13:40:56.095Z"
   },
   {
    "duration": 11,
    "start_time": "2023-03-15T13:40:56.136Z"
   },
   {
    "duration": 27,
    "start_time": "2023-03-15T13:40:56.149Z"
   },
   {
    "duration": 9,
    "start_time": "2023-03-15T13:40:56.178Z"
   },
   {
    "duration": 3,
    "start_time": "2023-03-15T13:40:56.189Z"
   },
   {
    "duration": 170,
    "start_time": "2023-03-15T13:40:56.194Z"
   },
   {
    "duration": 53818,
    "start_time": "2023-03-15T13:40:56.366Z"
   },
   {
    "duration": 4,
    "start_time": "2023-03-15T13:41:50.186Z"
   },
   {
    "duration": 45,
    "start_time": "2023-03-15T13:41:50.194Z"
   },
   {
    "duration": 4,
    "start_time": "2023-03-15T13:41:50.240Z"
   },
   {
    "duration": 19660,
    "start_time": "2023-03-15T13:41:50.245Z"
   },
   {
    "duration": 4,
    "start_time": "2023-03-15T13:42:09.907Z"
   },
   {
    "duration": 143,
    "start_time": "2023-03-15T13:42:09.924Z"
   },
   {
    "duration": 4,
    "start_time": "2023-03-15T13:42:10.069Z"
   },
   {
    "duration": 2957,
    "start_time": "2023-03-15T13:42:10.075Z"
   },
   {
    "duration": 490,
    "start_time": "2023-03-15T13:42:13.034Z"
   },
   {
    "duration": 1124,
    "start_time": "2023-03-15T13:42:13.525Z"
   },
   {
    "duration": 27,
    "start_time": "2023-03-15T13:42:14.651Z"
   },
   {
    "duration": 2949,
    "start_time": "2023-03-15T13:42:14.680Z"
   },
   {
    "duration": 294,
    "start_time": "2023-03-15T13:42:17.631Z"
   },
   {
    "duration": 5,
    "start_time": "2023-03-15T13:42:17.927Z"
   },
   {
    "duration": 6,
    "start_time": "2023-03-15T13:42:18.024Z"
   },
   {
    "duration": 2636,
    "start_time": "2023-03-15T13:42:18.032Z"
   },
   {
    "duration": 59,
    "start_time": "2023-03-15T13:42:20.670Z"
   },
   {
    "duration": 12676,
    "start_time": "2023-03-15T13:42:20.730Z"
   },
   {
    "duration": 22,
    "start_time": "2023-03-15T13:42:33.407Z"
   },
   {
    "duration": 11,
    "start_time": "2023-03-15T13:42:33.431Z"
   },
   {
    "duration": 15,
    "start_time": "2023-03-15T13:42:33.444Z"
   },
   {
    "duration": 11,
    "start_time": "2023-03-15T13:42:33.461Z"
   },
   {
    "duration": 4,
    "start_time": "2023-03-15T13:42:33.474Z"
   },
   {
    "duration": 45,
    "start_time": "2023-03-15T13:42:33.480Z"
   },
   {
    "duration": 1482,
    "start_time": "2023-09-04T09:50:17.986Z"
   },
   {
    "duration": 120,
    "start_time": "2023-09-04T09:50:19.471Z"
   },
   {
    "duration": 5,
    "start_time": "2023-09-04T09:50:28.694Z"
   },
   {
    "duration": 14,
    "start_time": "2023-09-04T09:50:29.558Z"
   },
   {
    "duration": 14,
    "start_time": "2023-09-04T09:51:05.268Z"
   },
   {
    "duration": 14,
    "start_time": "2023-09-04T09:51:45.538Z"
   },
   {
    "duration": 19,
    "start_time": "2023-09-04T09:52:08.586Z"
   },
   {
    "duration": 1757,
    "start_time": "2024-01-25T05:29:24.023Z"
   },
   {
    "duration": 73,
    "start_time": "2024-01-25T05:31:51.093Z"
   },
   {
    "duration": 87,
    "start_time": "2024-01-25T05:32:04.521Z"
   },
   {
    "duration": 69,
    "start_time": "2024-01-25T05:32:28.300Z"
   },
   {
    "duration": 92,
    "start_time": "2024-01-25T05:33:17.710Z"
   },
   {
    "duration": 162,
    "start_time": "2024-01-25T05:33:57.773Z"
   },
   {
    "duration": 53,
    "start_time": "2024-01-25T05:34:12.980Z"
   },
   {
    "duration": 15,
    "start_time": "2024-01-25T05:34:24.100Z"
   },
   {
    "duration": 91,
    "start_time": "2024-01-25T05:34:44.660Z"
   },
   {
    "duration": 49,
    "start_time": "2024-01-25T05:35:10.539Z"
   },
   {
    "duration": 96,
    "start_time": "2024-01-25T05:36:12.780Z"
   },
   {
    "duration": 66,
    "start_time": "2024-01-25T05:36:43.542Z"
   },
   {
    "duration": 85,
    "start_time": "2024-01-25T05:37:47.550Z"
   },
   {
    "duration": 57,
    "start_time": "2024-01-25T05:38:20.350Z"
   },
   {
    "duration": 62,
    "start_time": "2024-01-25T05:39:10.470Z"
   },
   {
    "duration": 50,
    "start_time": "2024-01-25T05:39:41.141Z"
   },
   {
    "duration": 51,
    "start_time": "2024-01-25T05:44:08.504Z"
   },
   {
    "duration": 43,
    "start_time": "2024-01-25T05:44:24.481Z"
   },
   {
    "duration": 60,
    "start_time": "2024-01-25T05:44:40.061Z"
   },
   {
    "duration": 51,
    "start_time": "2024-01-25T05:46:06.365Z"
   },
   {
    "duration": 46,
    "start_time": "2024-01-25T05:46:43.418Z"
   },
   {
    "duration": 52,
    "start_time": "2024-01-25T05:46:53.292Z"
   },
   {
    "duration": 52,
    "start_time": "2024-01-25T05:47:12.657Z"
   },
   {
    "duration": 54,
    "start_time": "2024-01-25T05:47:25.386Z"
   },
   {
    "duration": 53,
    "start_time": "2024-01-25T05:47:42.179Z"
   },
   {
    "duration": 47,
    "start_time": "2024-01-25T05:48:06.347Z"
   },
   {
    "duration": 53,
    "start_time": "2024-01-25T05:48:30.985Z"
   },
   {
    "duration": 14,
    "start_time": "2024-01-25T05:48:45.385Z"
   },
   {
    "duration": 60,
    "start_time": "2024-01-25T05:49:00.922Z"
   },
   {
    "duration": 94,
    "start_time": "2024-01-25T05:49:33.828Z"
   },
   {
    "duration": 48,
    "start_time": "2024-01-25T05:49:44.067Z"
   },
   {
    "duration": 46,
    "start_time": "2024-01-25T05:50:09.216Z"
   },
   {
    "duration": 50,
    "start_time": "2024-01-25T05:53:08.071Z"
   },
   {
    "duration": 99,
    "start_time": "2024-01-25T05:53:15.019Z"
   },
   {
    "duration": 83,
    "start_time": "2024-01-25T05:55:18.411Z"
   },
   {
    "duration": 63,
    "start_time": "2024-01-25T05:55:28.786Z"
   },
   {
    "duration": 113,
    "start_time": "2024-01-25T05:55:33.298Z"
   },
   {
    "duration": 37,
    "start_time": "2024-01-25T05:55:49.227Z"
   },
   {
    "duration": 3,
    "start_time": "2024-01-25T05:56:12.243Z"
   },
   {
    "duration": 3,
    "start_time": "2024-01-25T05:56:17.571Z"
   },
   {
    "duration": 4,
    "start_time": "2024-01-25T05:56:28.161Z"
   },
   {
    "duration": 9,
    "start_time": "2024-01-25T06:02:37.349Z"
   },
   {
    "duration": 3,
    "start_time": "2024-01-25T06:03:22.701Z"
   },
   {
    "duration": 3,
    "start_time": "2024-01-25T06:03:34.643Z"
   },
   {
    "duration": 67,
    "start_time": "2024-01-25T06:03:52.610Z"
   },
   {
    "duration": 68,
    "start_time": "2024-01-25T06:04:03.793Z"
   },
   {
    "duration": 47,
    "start_time": "2024-01-25T06:04:12.814Z"
   }
  ],
  "kernelspec": {
   "display_name": "Python 3 (ipykernel)",
   "language": "python",
   "name": "python3"
  },
  "language_info": {
   "codemirror_mode": {
    "name": "ipython",
    "version": 3
   },
   "file_extension": ".py",
   "mimetype": "text/x-python",
   "name": "python",
   "nbconvert_exporter": "python",
   "pygments_lexer": "ipython3",
   "version": "3.11.4"
  },
  "toc": {
   "base_numbering": 1,
   "nav_menu": {},
   "number_sections": true,
   "sideBar": true,
   "skip_h1_title": true,
   "title_cell": "Содержание",
   "title_sidebar": "Contents",
   "toc_cell": true,
   "toc_position": {
    "height": "calc(100% - 180px)",
    "left": "10px",
    "top": "150px",
    "width": "237px"
   },
   "toc_section_display": true,
   "toc_window_display": false
  }
 },
 "nbformat": 4,
 "nbformat_minor": 2
}
