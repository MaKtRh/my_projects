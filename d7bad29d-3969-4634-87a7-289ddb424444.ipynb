{
 "cells": [
  {
   "cell_type": "markdown",
   "metadata": {},
   "source": [
    "# Рекомендация тарифов"
   ]
  },
  {
   "cell_type": "markdown",
   "metadata": {},
   "source": [
    "Оператор мобильной связи «Мегалайн» выяснил: многие клиенты пользуются архивными тарифами. Они хотят построить систему, способную проанализировать поведение клиентов и предложить пользователям новый тариф: «Смарт» или «Ультра».\n",
    "\n",
    "В вашем распоряжении данные о поведении клиентов, которые уже перешли на эти тарифы (из проекта курса «Статистический анализ данных»). Нужно построить модель для задачи классификации, которая выберет подходящий тариф. Предобработка данных не понадобится — вы её уже сделали.\n",
    "\n",
    "Постройте модель с максимально большим значением *accuracy*. Чтобы сдать проект успешно, нужно довести долю правильных ответов по крайней мере до 0.75. Проверьте *accuracy* на тестовой выборке самостоятельно."
   ]
  },
  {
   "cell_type": "code",
   "execution_count": 34,
   "metadata": {
    "ExecuteTime": {
     "end_time": "2024-03-18T17:35:42.922489Z",
     "start_time": "2024-03-18T17:35:42.904682Z"
    }
   },
   "outputs": [],
   "source": [
    "import pandas as pd\n",
    "import numpy as np\n",
    "import matplotlib.pyplot as plt\n",
    "from sklearn.model_selection import train_test_split\n",
    "from sklearn.tree import DecisionTreeClassifier\n",
    "from sklearn.metrics import accuracy_score\n",
    "from sklearn.ensemble import RandomForestClassifier\n",
    "from sklearn.model_selection import RandomizedSearchCV\n",
    "from sklearn.linear_model import LogisticRegression\n",
    "from sklearn.model_selection import GridSearchCV\n",
    "\n"
   ]
  },
  {
   "cell_type": "markdown",
   "metadata": {},
   "source": [
    "# Первичный обзор данных"
   ]
  },
  {
   "cell_type": "code",
   "outputs": [],
   "source": [
    "df = pd.read_csv('users_behavior.csv')\n"
   ],
   "metadata": {
    "collapsed": false,
    "ExecuteTime": {
     "end_time": "2024-03-18T17:01:16.655619Z",
     "start_time": "2024-03-18T17:01:16.600714Z"
    }
   },
   "execution_count": 8
  },
  {
   "cell_type": "code",
   "execution_count": 9,
   "metadata": {
    "ExecuteTime": {
     "end_time": "2024-03-18T17:01:17.636550Z",
     "start_time": "2024-03-18T17:01:17.625745Z"
    }
   },
   "outputs": [
    {
     "data": {
      "text/plain": "   calls  minutes  messages   mb_used  is_ultra\n0   40.0   311.90      83.0  19915.42         0\n1   85.0   516.75      56.0  22696.96         0\n2   77.0   467.66      86.0  21060.45         0\n3  106.0   745.53      81.0   8437.39         1\n4   66.0   418.74       1.0  14502.75         0",
      "text/html": "<div>\n<style scoped>\n    .dataframe tbody tr th:only-of-type {\n        vertical-align: middle;\n    }\n\n    .dataframe tbody tr th {\n        vertical-align: top;\n    }\n\n    .dataframe thead th {\n        text-align: right;\n    }\n</style>\n<table border=\"1\" class=\"dataframe\">\n  <thead>\n    <tr style=\"text-align: right;\">\n      <th></th>\n      <th>calls</th>\n      <th>minutes</th>\n      <th>messages</th>\n      <th>mb_used</th>\n      <th>is_ultra</th>\n    </tr>\n  </thead>\n  <tbody>\n    <tr>\n      <th>0</th>\n      <td>40.0</td>\n      <td>311.90</td>\n      <td>83.0</td>\n      <td>19915.42</td>\n      <td>0</td>\n    </tr>\n    <tr>\n      <th>1</th>\n      <td>85.0</td>\n      <td>516.75</td>\n      <td>56.0</td>\n      <td>22696.96</td>\n      <td>0</td>\n    </tr>\n    <tr>\n      <th>2</th>\n      <td>77.0</td>\n      <td>467.66</td>\n      <td>86.0</td>\n      <td>21060.45</td>\n      <td>0</td>\n    </tr>\n    <tr>\n      <th>3</th>\n      <td>106.0</td>\n      <td>745.53</td>\n      <td>81.0</td>\n      <td>8437.39</td>\n      <td>1</td>\n    </tr>\n    <tr>\n      <th>4</th>\n      <td>66.0</td>\n      <td>418.74</td>\n      <td>1.0</td>\n      <td>14502.75</td>\n      <td>0</td>\n    </tr>\n  </tbody>\n</table>\n</div>"
     },
     "execution_count": 9,
     "metadata": {},
     "output_type": "execute_result"
    }
   ],
   "source": [
    "df.head()"
   ]
  },
  {
   "cell_type": "code",
   "execution_count": 5,
   "metadata": {},
   "outputs": [
    {
     "name": "stdout",
     "output_type": "stream",
     "text": [
      "<class 'pandas.core.frame.DataFrame'>\n",
      "RangeIndex: 3214 entries, 0 to 3213\n",
      "Data columns (total 5 columns):\n",
      " #   Column    Non-Null Count  Dtype  \n",
      "---  ------    --------------  -----  \n",
      " 0   calls     3214 non-null   float64\n",
      " 1   minutes   3214 non-null   float64\n",
      " 2   messages  3214 non-null   float64\n",
      " 3   mb_used   3214 non-null   float64\n",
      " 4   is_ultra  3214 non-null   int64  \n",
      "dtypes: float64(4), int64(1)\n",
      "memory usage: 125.7 KB\n"
     ]
    }
   ],
   "source": [
    "df.info()"
   ]
  },
  {
   "cell_type": "markdown",
   "source": [
    "Набор данных содержит в себе следующие столбцы:\n",
    "\n",
    "`calls` - количество звонков\n",
    "\n",
    "`minutes` - суммарная длительность звонков в минутах\n",
    "\n",
    "`messages` - количество sms-сообщений.\n",
    "\n",
    "`mb_used` - израсходованный интернет-трафик в Мб.\n",
    "\n",
    "`is_ultra` - каким тарифом пользовался в течение месяца («Ультра» — 1, «Смарт» — 0)"
   ],
   "metadata": {
    "collapsed": false
   }
  },
  {
   "cell_type": "markdown",
   "source": [
    "Исходя из данных, имеем 5 столбцов и 3214 строк, типы соответствуют действительности и пропуски отсутствуютю"
   ],
   "metadata": {
    "collapsed": false
   }
  },
  {
   "cell_type": "code",
   "outputs": [
    {
     "data": {
      "text/plain": "             calls      minutes     messages       mb_used     is_ultra\ncount  3214.000000  3214.000000  3214.000000   3214.000000  3214.000000\nmean     63.038892   438.208787    38.281269  17207.673836     0.306472\nstd      33.236368   234.569872    36.148326   7570.968246     0.461100\nmin       0.000000     0.000000     0.000000      0.000000     0.000000\n25%      40.000000   274.575000     9.000000  12491.902500     0.000000\n50%      62.000000   430.600000    30.000000  16943.235000     0.000000\n75%      82.000000   571.927500    57.000000  21424.700000     1.000000\nmax     244.000000  1632.060000   224.000000  49745.730000     1.000000",
      "text/html": "<div>\n<style scoped>\n    .dataframe tbody tr th:only-of-type {\n        vertical-align: middle;\n    }\n\n    .dataframe tbody tr th {\n        vertical-align: top;\n    }\n\n    .dataframe thead th {\n        text-align: right;\n    }\n</style>\n<table border=\"1\" class=\"dataframe\">\n  <thead>\n    <tr style=\"text-align: right;\">\n      <th></th>\n      <th>calls</th>\n      <th>minutes</th>\n      <th>messages</th>\n      <th>mb_used</th>\n      <th>is_ultra</th>\n    </tr>\n  </thead>\n  <tbody>\n    <tr>\n      <th>count</th>\n      <td>3214.000000</td>\n      <td>3214.000000</td>\n      <td>3214.000000</td>\n      <td>3214.000000</td>\n      <td>3214.000000</td>\n    </tr>\n    <tr>\n      <th>mean</th>\n      <td>63.038892</td>\n      <td>438.208787</td>\n      <td>38.281269</td>\n      <td>17207.673836</td>\n      <td>0.306472</td>\n    </tr>\n    <tr>\n      <th>std</th>\n      <td>33.236368</td>\n      <td>234.569872</td>\n      <td>36.148326</td>\n      <td>7570.968246</td>\n      <td>0.461100</td>\n    </tr>\n    <tr>\n      <th>min</th>\n      <td>0.000000</td>\n      <td>0.000000</td>\n      <td>0.000000</td>\n      <td>0.000000</td>\n      <td>0.000000</td>\n    </tr>\n    <tr>\n      <th>25%</th>\n      <td>40.000000</td>\n      <td>274.575000</td>\n      <td>9.000000</td>\n      <td>12491.902500</td>\n      <td>0.000000</td>\n    </tr>\n    <tr>\n      <th>50%</th>\n      <td>62.000000</td>\n      <td>430.600000</td>\n      <td>30.000000</td>\n      <td>16943.235000</td>\n      <td>0.000000</td>\n    </tr>\n    <tr>\n      <th>75%</th>\n      <td>82.000000</td>\n      <td>571.927500</td>\n      <td>57.000000</td>\n      <td>21424.700000</td>\n      <td>1.000000</td>\n    </tr>\n    <tr>\n      <th>max</th>\n      <td>244.000000</td>\n      <td>1632.060000</td>\n      <td>224.000000</td>\n      <td>49745.730000</td>\n      <td>1.000000</td>\n    </tr>\n  </tbody>\n</table>\n</div>"
     },
     "execution_count": 11,
     "metadata": {},
     "output_type": "execute_result"
    }
   ],
   "source": [
    "df.describe()"
   ],
   "metadata": {
    "collapsed": false,
    "ExecuteTime": {
     "end_time": "2024-03-18T17:03:06.959180Z",
     "start_time": "2024-03-18T17:03:06.921725Z"
    }
   },
   "execution_count": 11
  },
  {
   "cell_type": "markdown",
   "metadata": {},
   "source": [
    "По обзору характеристик можно выделить, что среднее количество звонков - 38, минут - 438, сообщений - 38, использованных мегабайт - 17207\n"
   ]
  },
  {
   "cell_type": "markdown",
   "metadata": {},
   "source": [
    "**Вывод:**\n",
    "\n",
    "* Данные не нуждаются в предобработке.\n",
    "* Пропуски отсутствуют."
   ]
  },
  {
   "cell_type": "markdown",
   "metadata": {},
   "source": [
    "# Построение модели"
   ]
  },
  {
   "cell_type": "markdown",
   "metadata": {},
   "source": [
    "Разобьем данные на три выборки: обучающую, валидационную и тестовую. Разобьем их в отношении 3:1:1. Пока нами не была изучена кросс-валидация, использую для этого метод train_test_split():"
   ]
  },
  {
   "cell_type": "code",
   "execution_count": 20,
   "metadata": {
    "ExecuteTime": {
     "end_time": "2024-03-18T17:22:02.377777Z",
     "start_time": "2024-03-18T17:22:02.349648Z"
    }
   },
   "outputs": [],
   "source": [
    "df_train, df_valid = train_test_split(df, test_size = 0.4, random_state = 12345)\n",
    "\n",
    "df_valid, df_test = train_test_split(df_valid, test_size = 0.5, random_state = 12345)"
   ]
  },
  {
   "cell_type": "code",
   "execution_count": 21,
   "metadata": {
    "ExecuteTime": {
     "end_time": "2024-03-18T17:24:21.881229Z",
     "start_time": "2024-03-18T17:24:21.874225Z"
    }
   },
   "outputs": [
    {
     "name": "stdout",
     "output_type": "stream",
     "text": [
      "(1928, 5) (643, 5) (643, 5)\n"
     ]
    }
   ],
   "source": [
    "print(df_train.shape, df_valid.shape, df_test.shape)"
   ]
  },
  {
   "cell_type": "markdown",
   "metadata": {},
   "source": [
    "**Вывод:** Выборки разделены."
   ]
  },
  {
   "cell_type": "markdown",
   "metadata": {},
   "source": [
    "## Исследуем модели"
   ]
  },
  {
   "cell_type": "markdown",
   "metadata": {},
   "source": [
    "**Перед исследованием моделей машинного обучения разделим наши датафреймы на целевой признак который нужно предсказать и признаки, которые помогут нам его предсказать:**"
   ]
  },
  {
   "cell_type": "code",
   "execution_count": 39,
   "metadata": {
    "ExecuteTime": {
     "end_time": "2024-03-18T17:38:43.640438Z",
     "start_time": "2024-03-18T17:38:43.612908Z"
    }
   },
   "outputs": [],
   "source": [
    "features_train = df_train.drop(columns = 'is_ultra')\n",
    "target_train = df_train['is_ultra']\n",
    "\n",
    "features_valid = df_valid.drop(columns = 'is_ultra')\n",
    "target_valid = df_valid['is_ultra']"
   ]
  },
  {
   "cell_type": "markdown",
   "metadata": {},
   "source": [
    "**Оценим в цикле долю правильных ответов для разных глубин дерева принятия решений:**"
   ]
  },
  {
   "cell_type": "code",
   "execution_count": 42,
   "metadata": {
    "scrolled": true,
    "ExecuteTime": {
     "end_time": "2024-03-18T17:39:09.136856Z",
     "start_time": "2024-03-18T17:39:09.032280Z"
    }
   },
   "outputs": [
    {
     "name": "stdout",
     "output_type": "stream",
     "text": [
      "max_depth = 2 : 0.7823\n",
      "max_depth = 4 : 0.7854\n",
      "max_depth = 6 : 0.7885\n",
      "max_depth = 8 : 0.7854\n",
      "max_depth = 10 : 0.7807\n",
      "max_depth = 12 : 0.7807\n",
      "max_depth = 14 : 0.7807\n",
      "max_depth = 16 : 0.7807\n",
      "max_depth = 18 : 0.7807\n",
      "max_depth = 20 : 0.7807\n",
      "max_depth = 22 : 0.7807\n",
      "max_depth = 24 : 0.7807\n",
      "max_depth = 26 : 0.7807\n"
     ]
    }
   ],
   "source": [
    "for depth in range(2,28,2):\n",
    "    model = DecisionTreeClassifier(max_depth = depth, random_state = 12345, min_samples_split = 100)\n",
    "    model.fit(features_train, target_train)\n",
    "    pred_valid = model.predict(features_valid)\n",
    "    result = accuracy_score(target_valid, pred_valid)\n",
    "    print(f'max_depth = {depth} :', '{:.4f}'.format(result))\n",
    "    "
   ]
  },
  {
   "cell_type": "markdown",
   "metadata": {},
   "source": [
    "\n",
    "Лучшая модель с глубиной 6 с accuracy = 0.7885. min_samples_split был подобран интуитивно, и улучшил результат на 6 тысячных по сравнению с дефолтным. Любые опыты с критерием и весом классов (balanced) ухудшали результат при min_samples_split = 100."
   ]
  },
  {
   "cell_type": "markdown",
   "metadata": {},
   "source": [
    "**Перейдем к алгоритму случайного леса:**"
   ]
  },
  {
   "cell_type": "markdown",
   "metadata": {},
   "source": [
    "Оценим в цикле долю правильных ответов для разного количества оценщиков"
   ]
  },
  {
   "cell_type": "code",
   "execution_count": 29,
   "metadata": {
    "ExecuteTime": {
     "end_time": "2024-03-18T17:26:55.803372Z",
     "start_time": "2024-03-18T17:26:55.541313Z"
    }
   },
   "outputs": [
    {
     "name": "stdout",
     "output_type": "stream",
     "text": [
      "n_estimators = 1 : 0.7854\n",
      "n_estimators = 2 : 0.7854\n",
      "n_estimators = 3 : 0.7838\n",
      "n_estimators = 4 : 0.7885\n",
      "n_estimators = 5 : 0.7947\n",
      "n_estimators = 6 : 0.7932\n",
      "n_estimators = 7 : 0.7947\n",
      "n_estimators = 8 : 0.7994\n",
      "n_estimators = 9 : 0.7994\n",
      "n_estimators = 10 : 0.8009\n",
      "n_estimators = 11 : 0.8009\n",
      "n_estimators = 12 : 0.804\n",
      "n_estimators = 13 : 0.8025\n",
      "n_estimators = 14 : 0.8025\n",
      "n_estimators = 15 : 0.8009\n"
     ]
    }
   ],
   "source": [
    "for est in range(1,16):\n",
    "    model = RandomForestClassifier(n_estimators = est, random_state = 12345, max_depth = 6)\n",
    "    model.fit(features_train, target_train)\n",
    "    pred_valid = model.predict(features_valid)\n",
    "    result = accuracy_score(target_valid, pred_valid)\n",
    "    print(f'n_estimators = {est} :', '{:.4}'.format(result))"
   ]
  },
  {
   "cell_type": "markdown",
   "metadata": {},
   "source": [
    "Лучшая модель с количеством оценщиков 12 и глубиной 6 с accuracy = 0.8025. min_samples_split лучше оставить дефолтным, он ухудшал результат."
   ]
  },
  {
   "cell_type": "code",
   "execution_count": 43,
   "metadata": {
    "ExecuteTime": {
     "end_time": "2024-03-18T17:40:51.868359Z",
     "start_time": "2024-03-18T17:40:51.858032Z"
    }
   },
   "outputs": [
    {
     "data": {
      "text/plain": "{'n_estimators': 91,\n 'min_samples_split': 10,\n 'max_leaf_nodes': 19,\n 'max_features': 3,\n 'max_depth': 9,\n 'bootstrap': True}"
     },
     "execution_count": 43,
     "metadata": {},
     "output_type": "execute_result"
    }
   ],
   "source": [
    "rs.best_params_"
   ]
  },
  {
   "cell_type": "code",
   "execution_count": 44,
   "metadata": {
    "ExecuteTime": {
     "end_time": "2024-03-18T17:41:03.682581Z",
     "start_time": "2024-03-18T17:41:03.660726Z"
    }
   },
   "outputs": [
    {
     "name": "stdout",
     "output_type": "stream",
     "text": [
      "0.7869362363919129\n"
     ]
    }
   ],
   "source": [
    "pred = rs.predict(features_valid)\n",
    "print(accuracy_score(target_valid, pred))"
   ]
  },
  {
   "cell_type": "markdown",
   "metadata": {},
   "source": [
    "**Перейдем к логистической регрессии:**"
   ]
  },
  {
   "cell_type": "code",
   "execution_count": 45,
   "metadata": {
    "ExecuteTime": {
     "end_time": "2024-03-18T17:41:20.043351Z",
     "start_time": "2024-03-18T17:41:19.824707Z"
    }
   },
   "outputs": [
    {
     "name": "stdout",
     "output_type": "stream",
     "text": [
      "0.7107309486780715\n"
     ]
    }
   ],
   "source": [
    "model = LogisticRegression(random_state = 12345)\n",
    "model.fit(features_train, target_train)\n",
    "pred_valid = model.predict(features_valid)\n",
    "print(accuracy_score(target_valid, pred_valid))"
   ]
  },
  {
   "cell_type": "markdown",
   "metadata": {},
   "source": [
    "**Вывод:**"
   ]
  },
  {
   "cell_type": "markdown",
   "metadata": {},
   "source": [
    "* Мы разделили тренировочную выборку и валидационную на признаки(features) и целевой признак(target).\n",
    "* Обучили дерево принятия решений и выбрали лучшие с максимальной глубиной 2 и 6.\n",
    "* Обучили модель случайного леса, и выбрали лучшую с количеством оценщиков 12 и глубиной 6. Ее используем для проверки на тестовой выборке. Также используем модель, для которой подобрали параметры случайным поиском.\n",
    "* Обучили модель логистической регресии и получили метрики хуже чем у предыдущих моделей.\n",
    "* Открыли для себя несколько интересных методов, гиперпараметров, потренировались подбирать параметры."
   ]
  },
  {
   "cell_type": "markdown",
   "metadata": {},
   "source": [
    "## Проверка модели тестовой выборке"
   ]
  },
  {
   "cell_type": "markdown",
   "metadata": {},
   "source": [
    "**Перед проверкой модели разделим наш тестовый датафрейм на features и target:**"
   ]
  },
  {
   "cell_type": "code",
   "execution_count": 46,
   "metadata": {
    "ExecuteTime": {
     "end_time": "2024-03-18T17:42:10.554522Z",
     "start_time": "2024-03-18T17:42:10.543057Z"
    }
   },
   "outputs": [],
   "source": [
    "features_test = df_test.drop(columns = 'is_ultra')\n",
    "target_test = df_test['is_ultra']"
   ]
  },
  {
   "cell_type": "markdown",
   "metadata": {},
   "source": [
    "**Проверим модель на тестовой выборке:**"
   ]
  },
  {
   "cell_type": "code",
   "execution_count": 47,
   "metadata": {
    "ExecuteTime": {
     "end_time": "2024-03-18T17:43:04.241635Z",
     "start_time": "2024-03-18T17:43:04.190680Z"
    }
   },
   "outputs": [
    {
     "name": "stdout",
     "output_type": "stream",
     "text": [
      "accuracy = 0.7947122861586314\n"
     ]
    }
   ],
   "source": [
    "model = RandomForestClassifier(n_estimators = 12, max_depth = 6, random_state = 12345)\n",
    "model.fit(features_train,target_train)\n",
    "pred_test = model.predict(features_test)\n",
    "print(f'accuracy = {accuracy_score(target_test,pred_test)}')"
   ]
  },
  {
   "cell_type": "markdown",
   "metadata": {},
   "source": [
    "**Проверим модель rs с гиперпараметрами, подобранными случайным поиском на тестовой выборке:**"
   ]
  },
  {
   "cell_type": "code",
   "execution_count": 48,
   "metadata": {
    "ExecuteTime": {
     "end_time": "2024-03-18T17:43:04.856168Z",
     "start_time": "2024-03-18T17:43:04.839503Z"
    }
   },
   "outputs": [
    {
     "name": "stdout",
     "output_type": "stream",
     "text": [
      "0.8009331259720062\n"
     ]
    }
   ],
   "source": [
    "pred = rs.predict(features_test)\n",
    "print(accuracy_score(target_test, pred))"
   ]
  },
  {
   "cell_type": "markdown",
   "metadata": {},
   "source": [
    "Модель, для которой мы подбирали гиперпараметры случайным поиском показала чуть-чуть лучший результат, чем та у которой мы подобрали только глубину и количество оценщиков. Тем не менее обе модели справились с поставленной задачей."
   ]
  },
  {
   "cell_type": "markdown",
   "metadata": {},
   "source": [
    "**Вывод:**"
   ]
  },
  {
   "cell_type": "markdown",
   "metadata": {},
   "source": [
    "* Мы проверили две лучшие подобранные нами модели на тестовой выборке и получили устраивающий нас результат.\n",
    "* Следующий шаг: научиться пользоваться кросс-валидацией и GridSearch для повышения accuracy в подобных задачах."
   ]
  }
 ],
 "metadata": {
  "ExecuteTimeLog": [
   {
    "duration": 401,
    "start_time": "2023-02-08T12:58:27.290Z"
   },
   {
    "duration": 73,
    "start_time": "2023-02-08T12:58:46.350Z"
   },
   {
    "duration": 140,
    "start_time": "2023-02-08T12:59:28.820Z"
   },
   {
    "duration": 44,
    "start_time": "2023-02-08T12:59:47.883Z"
   },
   {
    "duration": 32,
    "start_time": "2023-02-08T13:00:03.581Z"
   },
   {
    "duration": 41,
    "start_time": "2023-02-08T16:21:04.473Z"
   },
   {
    "duration": 361,
    "start_time": "2023-02-08T16:21:08.996Z"
   },
   {
    "duration": 147,
    "start_time": "2023-02-08T16:21:09.593Z"
   },
   {
    "duration": 23,
    "start_time": "2023-02-08T16:21:11.116Z"
   },
   {
    "duration": 11,
    "start_time": "2023-02-08T16:21:22.961Z"
   },
   {
    "duration": 676,
    "start_time": "2023-02-08T16:27:08.839Z"
   },
   {
    "duration": 23,
    "start_time": "2023-02-08T16:28:40.641Z"
   },
   {
    "duration": 35,
    "start_time": "2023-02-08T16:35:07.479Z"
   },
   {
    "duration": 7,
    "start_time": "2023-02-08T16:40:27.380Z"
   },
   {
    "duration": 6,
    "start_time": "2023-02-08T16:41:16.770Z"
   },
   {
    "duration": 7,
    "start_time": "2023-02-08T16:43:08.975Z"
   },
   {
    "duration": 45,
    "start_time": "2023-02-09T07:38:39.529Z"
   },
   {
    "duration": 1064,
    "start_time": "2023-02-09T07:38:45.164Z"
   },
   {
    "duration": 69,
    "start_time": "2023-02-09T07:38:46.230Z"
   },
   {
    "duration": 144,
    "start_time": "2023-02-09T07:38:46.302Z"
   },
   {
    "duration": 24,
    "start_time": "2023-02-09T07:38:46.449Z"
   },
   {
    "duration": 14,
    "start_time": "2023-02-09T07:38:46.475Z"
   },
   {
    "duration": 10,
    "start_time": "2023-02-09T07:38:48.035Z"
   },
   {
    "duration": 4,
    "start_time": "2023-02-09T07:38:49.210Z"
   },
   {
    "duration": 15,
    "start_time": "2023-02-09T07:38:55.898Z"
   },
   {
    "duration": 6,
    "start_time": "2023-02-09T07:39:04.940Z"
   },
   {
    "duration": 17,
    "start_time": "2023-02-09T07:39:23.614Z"
   },
   {
    "duration": 4,
    "start_time": "2023-02-09T07:39:47.620Z"
   },
   {
    "duration": 11,
    "start_time": "2023-02-09T07:41:56.514Z"
   },
   {
    "duration": 15,
    "start_time": "2023-02-09T07:42:01.372Z"
   },
   {
    "duration": 5,
    "start_time": "2023-02-09T07:42:13.321Z"
   },
   {
    "duration": 3,
    "start_time": "2023-02-09T07:42:55.779Z"
   },
   {
    "duration": 101,
    "start_time": "2023-02-09T07:43:56.053Z"
   },
   {
    "duration": 6,
    "start_time": "2023-02-09T07:44:08.056Z"
   },
   {
    "duration": 130,
    "start_time": "2023-02-09T07:44:08.340Z"
   },
   {
    "duration": 10,
    "start_time": "2023-02-09T07:45:02.250Z"
   },
   {
    "duration": 3,
    "start_time": "2023-02-09T07:46:17.506Z"
   },
   {
    "duration": 28,
    "start_time": "2023-02-09T07:46:19.848Z"
   },
   {
    "duration": 9,
    "start_time": "2023-02-09T07:46:20.191Z"
   },
   {
    "duration": 10,
    "start_time": "2023-02-09T07:46:20.943Z"
   },
   {
    "duration": 6,
    "start_time": "2023-02-09T07:46:22.522Z"
   },
   {
    "duration": 5,
    "start_time": "2023-02-09T07:46:23.333Z"
   },
   {
    "duration": 103,
    "start_time": "2023-02-09T07:46:23.621Z"
   },
   {
    "duration": 390,
    "start_time": "2023-02-09T07:46:44.030Z"
   },
   {
    "duration": 373,
    "start_time": "2023-02-09T07:48:08.359Z"
   },
   {
    "duration": 5,
    "start_time": "2023-02-09T07:49:42.608Z"
   },
   {
    "duration": 7373,
    "start_time": "2023-02-09T07:50:06.439Z"
   },
   {
    "duration": 7115,
    "start_time": "2023-02-09T07:50:23.107Z"
   },
   {
    "duration": 15,
    "start_time": "2023-02-09T07:50:52.128Z"
   },
   {
    "duration": 63,
    "start_time": "2023-02-09T16:04:14.037Z"
   },
   {
    "duration": 1125,
    "start_time": "2023-02-09T16:04:17.638Z"
   },
   {
    "duration": 81,
    "start_time": "2023-02-09T16:04:18.765Z"
   },
   {
    "duration": 69,
    "start_time": "2023-02-09T16:04:18.849Z"
   },
   {
    "duration": 24,
    "start_time": "2023-02-09T16:04:18.922Z"
   },
   {
    "duration": 13,
    "start_time": "2023-02-09T16:04:18.948Z"
   },
   {
    "duration": 9,
    "start_time": "2023-02-09T16:04:19.035Z"
   },
   {
    "duration": 8,
    "start_time": "2023-02-09T16:04:20.035Z"
   },
   {
    "duration": 124,
    "start_time": "2023-02-09T16:04:20.277Z"
   },
   {
    "duration": 434,
    "start_time": "2023-02-09T16:04:29.135Z"
   },
   {
    "duration": 5820,
    "start_time": "2023-02-09T16:04:30.569Z"
   },
   {
    "duration": 6,
    "start_time": "2023-02-09T16:04:36.390Z"
   },
   {
    "duration": 10,
    "start_time": "2023-02-09T16:04:54.432Z"
   },
   {
    "duration": 3,
    "start_time": "2023-02-09T16:06:11.671Z"
   },
   {
    "duration": 37,
    "start_time": "2023-02-09T16:07:33.525Z"
   },
   {
    "duration": 5,
    "start_time": "2023-02-09T16:09:11.615Z"
   },
   {
    "duration": 4,
    "start_time": "2023-02-09T16:09:55.125Z"
   },
   {
    "duration": 45,
    "start_time": "2023-02-09T16:10:38.372Z"
   },
   {
    "duration": 18,
    "start_time": "2023-02-09T16:13:18.895Z"
   },
   {
    "duration": 1120,
    "start_time": "2023-02-09T18:59:21.467Z"
   },
   {
    "duration": 65,
    "start_time": "2023-02-09T18:59:24.847Z"
   },
   {
    "duration": 131,
    "start_time": "2023-02-09T18:59:25.976Z"
   },
   {
    "duration": 21,
    "start_time": "2023-02-09T18:59:26.127Z"
   },
   {
    "duration": 12,
    "start_time": "2023-02-09T18:59:26.203Z"
   },
   {
    "duration": 7,
    "start_time": "2023-02-09T18:59:26.656Z"
   },
   {
    "duration": 6,
    "start_time": "2023-02-09T18:59:26.976Z"
   },
   {
    "duration": 135,
    "start_time": "2023-02-09T18:59:27.135Z"
   },
   {
    "duration": 416,
    "start_time": "2023-02-09T18:59:27.476Z"
   },
   {
    "duration": 5990,
    "start_time": "2023-02-09T18:59:27.894Z"
   },
   {
    "duration": 4,
    "start_time": "2023-02-09T18:59:33.886Z"
   },
   {
    "duration": 22,
    "start_time": "2023-02-09T18:59:33.892Z"
   },
   {
    "duration": 47,
    "start_time": "2023-02-09T18:59:33.916Z"
   },
   {
    "duration": 4,
    "start_time": "2023-02-09T18:59:33.964Z"
   },
   {
    "duration": 66,
    "start_time": "2023-02-09T18:59:33.970Z"
   },
   {
    "duration": 17,
    "start_time": "2023-02-09T18:59:34.039Z"
   },
   {
    "duration": 12,
    "start_time": "2023-02-09T18:59:40.736Z"
   },
   {
    "duration": 14,
    "start_time": "2023-02-09T18:59:54.636Z"
   },
   {
    "duration": 1931,
    "start_time": "2023-02-09T19:23:27.784Z"
   },
   {
    "duration": 74,
    "start_time": "2023-02-09T19:23:29.717Z"
   },
   {
    "duration": 66,
    "start_time": "2023-02-09T19:23:29.794Z"
   },
   {
    "duration": 20,
    "start_time": "2023-02-09T19:23:29.862Z"
   },
   {
    "duration": 12,
    "start_time": "2023-02-09T19:23:29.884Z"
   },
   {
    "duration": 7,
    "start_time": "2023-02-09T19:23:29.898Z"
   },
   {
    "duration": 8,
    "start_time": "2023-02-09T19:23:29.907Z"
   },
   {
    "duration": 141,
    "start_time": "2023-02-09T19:23:29.916Z"
   },
   {
    "duration": 437,
    "start_time": "2023-02-09T19:23:30.059Z"
   },
   {
    "duration": 5734,
    "start_time": "2023-02-09T19:23:30.498Z"
   },
   {
    "duration": 7,
    "start_time": "2023-02-09T19:23:36.234Z"
   },
   {
    "duration": 14,
    "start_time": "2023-02-09T19:23:36.243Z"
   },
   {
    "duration": 30,
    "start_time": "2023-02-09T19:23:36.259Z"
   },
   {
    "duration": 4,
    "start_time": "2023-02-09T19:23:36.291Z"
   },
   {
    "duration": 67,
    "start_time": "2023-02-09T19:23:36.297Z"
   },
   {
    "duration": 9,
    "start_time": "2023-02-09T19:23:36.366Z"
   },
   {
    "duration": 5,
    "start_time": "2023-02-09T19:23:36.377Z"
   },
   {
    "duration": 1359,
    "start_time": "2023-11-24T16:14:38.967Z"
   },
   {
    "duration": 121,
    "start_time": "2023-11-24T16:14:42.540Z"
   },
   {
    "duration": 21,
    "start_time": "2023-11-24T16:14:48.641Z"
   },
   {
    "duration": 10,
    "start_time": "2023-11-24T16:14:58.611Z"
   },
   {
    "duration": 11,
    "start_time": "2023-11-24T16:15:15.207Z"
   },
   {
    "duration": 26,
    "start_time": "2023-11-24T17:21:28.430Z"
   },
   {
    "duration": 6,
    "start_time": "2023-11-24T17:26:01.069Z"
   },
   {
    "duration": 104,
    "start_time": "2023-11-24T17:26:50.723Z"
   },
   {
    "duration": 4,
    "start_time": "2023-11-24T17:26:59.980Z"
   },
   {
    "duration": 14,
    "start_time": "2023-11-24T17:33:40.461Z"
   },
   {
    "duration": 4,
    "start_time": "2023-11-24T17:35:40.936Z"
   },
   {
    "duration": 5,
    "start_time": "2023-11-24T17:36:39.949Z"
   },
   {
    "duration": 51,
    "start_time": "2023-11-24T17:38:21.469Z"
   },
   {
    "duration": 20,
    "start_time": "2023-11-24T17:47:10.451Z"
   },
   {
    "duration": 2,
    "start_time": "2023-11-24T17:47:30.004Z"
   },
   {
    "duration": 121,
    "start_time": "2023-11-24T17:47:36.047Z"
   },
   {
    "duration": 121,
    "start_time": "2023-11-24T17:47:43.873Z"
   },
   {
    "duration": 17,
    "start_time": "2023-11-24T17:49:28.214Z"
   },
   {
    "duration": 126,
    "start_time": "2023-11-24T17:49:36.379Z"
   },
   {
    "duration": 131,
    "start_time": "2023-11-24T17:53:05.497Z"
   },
   {
    "duration": 11,
    "start_time": "2023-11-24T17:56:58.414Z"
   },
   {
    "duration": 114,
    "start_time": "2023-11-24T17:57:09.768Z"
   },
   {
    "duration": 107,
    "start_time": "2023-11-24T17:57:21.655Z"
   },
   {
    "duration": 106,
    "start_time": "2023-11-24T17:57:29.763Z"
   },
   {
    "duration": 120,
    "start_time": "2023-11-24T18:00:42.349Z"
   },
   {
    "duration": 83,
    "start_time": "2023-11-24T18:06:14.727Z"
   },
   {
    "duration": 46,
    "start_time": "2023-11-24T18:06:27.667Z"
   },
   {
    "duration": 45,
    "start_time": "2023-11-24T18:06:33.324Z"
   },
   {
    "duration": 47,
    "start_time": "2023-11-24T18:06:39.288Z"
   },
   {
    "duration": 89,
    "start_time": "2023-11-24T18:06:43.471Z"
   },
   {
    "duration": 86,
    "start_time": "2023-11-24T18:06:49.744Z"
   },
   {
    "duration": 96,
    "start_time": "2023-11-24T18:06:55.506Z"
   },
   {
    "duration": 80,
    "start_time": "2023-11-24T18:07:01.235Z"
   },
   {
    "duration": 59,
    "start_time": "2023-11-24T18:07:06.991Z"
   },
   {
    "duration": 84,
    "start_time": "2023-11-24T18:07:12.876Z"
   },
   {
    "duration": 81,
    "start_time": "2023-11-24T18:07:19.422Z"
   },
   {
    "duration": 83,
    "start_time": "2023-11-24T18:07:29.490Z"
   },
   {
    "duration": 87,
    "start_time": "2023-11-24T18:07:38.854Z"
   },
   {
    "duration": 102,
    "start_time": "2023-11-24T18:07:43.514Z"
   },
   {
    "duration": 90,
    "start_time": "2023-11-24T18:07:48.896Z"
   },
   {
    "duration": 100,
    "start_time": "2023-11-24T18:07:51.398Z"
   },
   {
    "duration": 106,
    "start_time": "2023-11-24T18:07:57.953Z"
   },
   {
    "duration": 105,
    "start_time": "2023-11-24T18:08:07.622Z"
   },
   {
    "duration": 130,
    "start_time": "2023-11-24T18:08:14.864Z"
   },
   {
    "duration": 105,
    "start_time": "2023-11-24T18:08:19.006Z"
   },
   {
    "duration": 11,
    "start_time": "2023-11-24T18:16:35.568Z"
   },
   {
    "duration": 531,
    "start_time": "2023-11-24T18:20:09.819Z"
   },
   {
    "duration": 99,
    "start_time": "2023-11-24T18:20:27.763Z"
   },
   {
    "duration": 526,
    "start_time": "2023-11-24T18:20:34.896Z"
   },
   {
    "duration": 146,
    "start_time": "2023-11-24T18:24:40.218Z"
   },
   {
    "duration": 377,
    "start_time": "2023-11-24T18:24:44.562Z"
   },
   {
    "duration": 80,
    "start_time": "2023-11-24T21:29:33.470Z"
   },
   {
    "duration": 13,
    "start_time": "2023-11-24T21:29:43.740Z"
   },
   {
    "duration": 3,
    "start_time": "2023-11-24T21:29:49.759Z"
   },
   {
    "duration": 4611,
    "start_time": "2023-11-24T21:29:56.096Z"
   },
   {
    "duration": 6097,
    "start_time": "2023-11-24T21:30:49.755Z"
   },
   {
    "duration": 4605,
    "start_time": "2023-11-24T21:31:15.040Z"
   },
   {
    "duration": 7754,
    "start_time": "2023-11-24T21:31:48.915Z"
   },
   {
    "duration": 9027,
    "start_time": "2023-11-24T21:31:59.408Z"
   },
   {
    "duration": 5,
    "start_time": "2023-11-24T21:32:36.876Z"
   },
   {
    "duration": 19,
    "start_time": "2023-11-24T21:34:01.349Z"
   },
   {
    "duration": 3,
    "start_time": "2023-11-24T21:38:27.758Z"
   },
   {
    "duration": 25,
    "start_time": "2023-11-24T21:40:01.711Z"
   },
   {
    "duration": 4,
    "start_time": "2023-11-24T21:44:13.956Z"
   },
   {
    "duration": 41,
    "start_time": "2023-11-24T21:48:39.457Z"
   },
   {
    "duration": 9010,
    "start_time": "2023-11-24T21:49:12.606Z"
   },
   {
    "duration": 4,
    "start_time": "2023-11-24T21:49:23.622Z"
   },
   {
    "duration": 19,
    "start_time": "2023-11-24T21:49:29.905Z"
   },
   {
    "duration": 25,
    "start_time": "2023-11-24T21:49:38.336Z"
   },
   {
    "duration": 3,
    "start_time": "2023-11-24T21:49:40.751Z"
   },
   {
    "duration": 39,
    "start_time": "2023-11-24T21:49:43.849Z"
   },
   {
    "duration": 19,
    "start_time": "2023-11-24T21:50:34.750Z"
   },
   {
    "duration": 3,
    "start_time": "2023-11-24T21:53:29.778Z"
   },
   {
    "duration": 5,
    "start_time": "2023-11-24T21:55:15.312Z"
   },
   {
    "duration": 4,
    "start_time": "2023-11-24T21:57:41.670Z"
   }
  ],
  "kernelspec": {
   "display_name": "Python 3 (ipykernel)",
   "language": "python",
   "name": "python3"
  },
  "language_info": {
   "codemirror_mode": {
    "name": "ipython",
    "version": 3
   },
   "file_extension": ".py",
   "mimetype": "text/x-python",
   "name": "python",
   "nbconvert_exporter": "python",
   "pygments_lexer": "ipython3",
   "version": "3.11.4"
  },
  "toc": {
   "base_numbering": 1,
   "nav_menu": {},
   "number_sections": true,
   "sideBar": true,
   "skip_h1_title": true,
   "title_cell": "Table of Contents",
   "title_sidebar": "Contents",
   "toc_cell": false,
   "toc_position": {
    "height": "calc(100% - 180px)",
    "left": "10px",
    "top": "150px",
    "width": "318.195px"
   },
   "toc_section_display": true,
   "toc_window_display": true
  }
 },
 "nbformat": 4,
 "nbformat_minor": 2
}
